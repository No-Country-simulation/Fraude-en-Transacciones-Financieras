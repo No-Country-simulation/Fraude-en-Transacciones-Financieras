{
 "cells": [
  {
   "cell_type": "markdown",
   "metadata": {},
   "source": [
    "# Fraude en Transacciones Financieras\n",
    "\n",
    "[![Banner.png](https://i.postimg.cc/C1t2SCwf/Banner.png)](https://postimg.cc/FdypxLd9)\n",
    "\n",
    "## Introducción\n",
    "\n",
    "Este notebook se enfoca en la extracción, transformación y carga (ETL) de datos de transacciones financieras para prepararlos para el análisis posterior. \n",
    "\n",
    "**Las tareas principales incluyen:**\n",
    "\n",
    "Extracción: Obtener datos de una fuente externa, como una base de datos o API.\n",
    "Transformación: Limpiar, formatear y transformar los datos para que sean consistentes y adecuados para el análisis.\n",
    "Carga: Almacenar los datos transformados en un formato adecuado para su posterior análisis, como una base de datos o un archivo CSV.\n",
    "Objetivos:\n",
    "\n",
    "Preparar un conjunto de datos limpio y consistente para el análisis de fraude en transacciones financieras.\n",
    "Garantizar la calidad y confiabilidad de los datos para obtener resultados precisos en el análisis.\n",
    "Facilitar el acceso y la manipulación de los datos para futuros análisis."
   ]
  },
  {
   "cell_type": "markdown",
   "metadata": {},
   "source": [
    "### Instalaremos paquetes y librerías necesarias para descargar, trabajar los DataSets para cumplir con nuestro MVP descrito en nuestro README.md"
   ]
  },
  {
   "cell_type": "code",
   "execution_count": 1,
   "metadata": {},
   "outputs": [
    {
     "name": "stdout",
     "output_type": "stream",
     "text": [
      "Defaulting to user installation because normal site-packages is not writeable\n",
      "Requirement already satisfied: pip in c:\\users\\esteban garcía\\appdata\\local\\packages\\pythonsoftwarefoundation.python.3.12_qbz5n2kfra8p0\\localcache\\local-packages\\python312\\site-packages (24.0)\n",
      "Note: you may need to restart the kernel to use updated packages.\n"
     ]
    },
    {
     "name": "stderr",
     "output_type": "stream",
     "text": [
      "\n",
      "[notice] A new release of pip is available: 24.0 -> 24.1.2\n",
      "[notice] To update, run: python.exe -m pip install --upgrade pip\n"
     ]
    },
    {
     "name": "stdout",
     "output_type": "stream",
     "text": [
      "Defaulting to user installation because normal site-packages is not writeable\n",
      "Requirement already satisfied: numpy in c:\\users\\esteban garcía\\appdata\\local\\packages\\pythonsoftwarefoundation.python.3.12_qbz5n2kfra8p0\\localcache\\local-packages\\python312\\site-packages (1.26.2)\n",
      "Note: you may need to restart the kernel to use updated packages.\n"
     ]
    },
    {
     "name": "stderr",
     "output_type": "stream",
     "text": [
      "\n",
      "[notice] A new release of pip is available: 24.0 -> 24.1.2\n",
      "[notice] To update, run: python.exe -m pip install --upgrade pip\n"
     ]
    },
    {
     "name": "stdout",
     "output_type": "stream",
     "text": [
      "Defaulting to user installation because normal site-packages is not writeable\n",
      "Requirement already satisfied: pandas in c:\\users\\esteban garcía\\appdata\\local\\packages\\pythonsoftwarefoundation.python.3.12_qbz5n2kfra8p0\\localcache\\local-packages\\python312\\site-packages (2.1.4)\n",
      "Requirement already satisfied: numpy<2,>=1.26.0 in c:\\users\\esteban garcía\\appdata\\local\\packages\\pythonsoftwarefoundation.python.3.12_qbz5n2kfra8p0\\localcache\\local-packages\\python312\\site-packages (from pandas) (1.26.2)\n",
      "Requirement already satisfied: python-dateutil>=2.8.2 in c:\\users\\esteban garcía\\appdata\\local\\packages\\pythonsoftwarefoundation.python.3.12_qbz5n2kfra8p0\\localcache\\local-packages\\python312\\site-packages (from pandas) (2.8.2)\n",
      "Requirement already satisfied: pytz>=2020.1 in c:\\users\\esteban garcía\\appdata\\local\\packages\\pythonsoftwarefoundation.python.3.12_qbz5n2kfra8p0\\localcache\\local-packages\\python312\\site-packages (from pandas) (2023.3.post1)\n",
      "Requirement already satisfied: tzdata>=2022.1 in c:\\users\\esteban garcía\\appdata\\local\\packages\\pythonsoftwarefoundation.python.3.12_qbz5n2kfra8p0\\localcache\\local-packages\\python312\\site-packages (from pandas) (2023.3)\n",
      "Requirement already satisfied: six>=1.5 in c:\\users\\esteban garcía\\appdata\\local\\packages\\pythonsoftwarefoundation.python.3.12_qbz5n2kfra8p0\\localcache\\local-packages\\python312\\site-packages (from python-dateutil>=2.8.2->pandas) (1.16.0)\n",
      "Note: you may need to restart the kernel to use updated packages.\n"
     ]
    },
    {
     "name": "stderr",
     "output_type": "stream",
     "text": [
      "\n",
      "[notice] A new release of pip is available: 24.0 -> 24.1.2\n",
      "[notice] To update, run: python.exe -m pip install --upgrade pip\n"
     ]
    },
    {
     "name": "stdout",
     "output_type": "stream",
     "text": [
      "Defaulting to user installation because normal site-packages is not writeableNote: you may need to restart the kernel to use updated packages.\n"
     ]
    },
    {
     "name": "stderr",
     "output_type": "stream",
     "text": [
      "\n",
      "[notice] A new release of pip is available: 24.0 -> 24.1.2\n",
      "[notice] To update, run: python.exe -m pip install --upgrade pip\n"
     ]
    },
    {
     "name": "stdout",
     "output_type": "stream",
     "text": [
      "\n",
      "Requirement already satisfied: requests in c:\\users\\esteban garcía\\appdata\\local\\packages\\pythonsoftwarefoundation.python.3.12_qbz5n2kfra8p0\\localcache\\local-packages\\python312\\site-packages (2.32.3)\n",
      "Requirement already satisfied: charset-normalizer<4,>=2 in c:\\users\\esteban garcía\\appdata\\local\\packages\\pythonsoftwarefoundation.python.3.12_qbz5n2kfra8p0\\localcache\\local-packages\\python312\\site-packages (from requests) (3.3.2)\n",
      "Requirement already satisfied: idna<4,>=2.5 in c:\\users\\esteban garcía\\appdata\\local\\packages\\pythonsoftwarefoundation.python.3.12_qbz5n2kfra8p0\\localcache\\local-packages\\python312\\site-packages (from requests) (3.6)\n",
      "Requirement already satisfied: urllib3<3,>=1.21.1 in c:\\users\\esteban garcía\\appdata\\local\\packages\\pythonsoftwarefoundation.python.3.12_qbz5n2kfra8p0\\localcache\\local-packages\\python312\\site-packages (from requests) (2.2.0)\n",
      "Requirement already satisfied: certifi>=2017.4.17 in c:\\users\\esteban garcía\\appdata\\local\\packages\\pythonsoftwarefoundation.python.3.12_qbz5n2kfra8p0\\localcache\\local-packages\\python312\\site-packages (from requests) (2024.2.2)\n",
      "Defaulting to user installation because normal site-packages is not writeableNote: you may need to restart the kernel to use updated packages.\n"
     ]
    },
    {
     "name": "stderr",
     "output_type": "stream",
     "text": [
      "\n",
      "[notice] A new release of pip is available: 24.0 -> 24.1.2\n",
      "[notice] To update, run: python.exe -m pip install --upgrade pip\n"
     ]
    },
    {
     "name": "stdout",
     "output_type": "stream",
     "text": [
      "\n",
      "Requirement already satisfied: requests in c:\\users\\esteban garcía\\appdata\\local\\packages\\pythonsoftwarefoundation.python.3.12_qbz5n2kfra8p0\\localcache\\local-packages\\python312\\site-packages (2.32.3)\n",
      "Requirement already satisfied: charset-normalizer<4,>=2 in c:\\users\\esteban garcía\\appdata\\local\\packages\\pythonsoftwarefoundation.python.3.12_qbz5n2kfra8p0\\localcache\\local-packages\\python312\\site-packages (from requests) (3.3.2)\n",
      "Requirement already satisfied: idna<4,>=2.5 in c:\\users\\esteban garcía\\appdata\\local\\packages\\pythonsoftwarefoundation.python.3.12_qbz5n2kfra8p0\\localcache\\local-packages\\python312\\site-packages (from requests) (3.6)\n",
      "Requirement already satisfied: urllib3<3,>=1.21.1 in c:\\users\\esteban garcía\\appdata\\local\\packages\\pythonsoftwarefoundation.python.3.12_qbz5n2kfra8p0\\localcache\\local-packages\\python312\\site-packages (from requests) (2.2.0)\n",
      "Requirement already satisfied: certifi>=2017.4.17 in c:\\users\\esteban garcía\\appdata\\local\\packages\\pythonsoftwarefoundation.python.3.12_qbz5n2kfra8p0\\localcache\\local-packages\\python312\\site-packages (from requests) (2024.2.2)\n",
      "Defaulting to user installation because normal site-packages is not writeable\n",
      "Requirement already satisfied: lxml in c:\\users\\esteban garcía\\appdata\\local\\packages\\pythonsoftwarefoundation.python.3.12_qbz5n2kfra8p0\\localcache\\local-packages\\python312\\site-packages (5.2.2)\n",
      "Note: you may need to restart the kernel to use updated packages.\n"
     ]
    },
    {
     "name": "stderr",
     "output_type": "stream",
     "text": [
      "\n",
      "[notice] A new release of pip is available: 24.0 -> 24.1.2\n",
      "[notice] To update, run: python.exe -m pip install --upgrade pip\n"
     ]
    },
    {
     "name": "stdout",
     "output_type": "stream",
     "text": [
      "Defaulting to user installation because normal site-packages is not writeable\n",
      "Requirement already satisfied: cssselect in c:\\users\\esteban garcía\\appdata\\local\\packages\\pythonsoftwarefoundation.python.3.12_qbz5n2kfra8p0\\localcache\\local-packages\\python312\\site-packages (1.2.0)\n",
      "Note: you may need to restart the kernel to use updated packages.\n"
     ]
    },
    {
     "name": "stderr",
     "output_type": "stream",
     "text": [
      "\n",
      "[notice] A new release of pip is available: 24.0 -> 24.1.2\n",
      "[notice] To update, run: python.exe -m pip install --upgrade pip\n"
     ]
    },
    {
     "name": "stdout",
     "output_type": "stream",
     "text": [
      "Defaulting to user installation because normal site-packages is not writeable\n",
      "Requirement already satisfied: urllib3 in c:\\users\\esteban garcía\\appdata\\local\\packages\\pythonsoftwarefoundation.python.3.12_qbz5n2kfra8p0\\localcache\\local-packages\\python312\\site-packages (2.2.0)\n",
      "Note: you may need to restart the kernel to use updated packages.\n"
     ]
    },
    {
     "name": "stderr",
     "output_type": "stream",
     "text": [
      "\n",
      "[notice] A new release of pip is available: 24.0 -> 24.1.2\n",
      "[notice] To update, run: python.exe -m pip install --upgrade pip\n"
     ]
    },
    {
     "name": "stdout",
     "output_type": "stream",
     "text": [
      "Defaulting to user installation because normal site-packages is not writeable\n",
      "Requirement already satisfied: tqdm in c:\\users\\esteban garcía\\appdata\\local\\packages\\pythonsoftwarefoundation.python.3.12_qbz5n2kfra8p0\\localcache\\local-packages\\python312\\site-packages (4.66.1)\n",
      "Requirement already satisfied: colorama in c:\\users\\esteban garcía\\appdata\\local\\packages\\pythonsoftwarefoundation.python.3.12_qbz5n2kfra8p0\\localcache\\local-packages\\python312\\site-packages (from tqdm) (0.4.6)\n",
      "Note: you may need to restart the kernel to use updated packages.\n"
     ]
    },
    {
     "name": "stderr",
     "output_type": "stream",
     "text": [
      "\n",
      "[notice] A new release of pip is available: 24.0 -> 24.1.2\n",
      "[notice] To update, run: python.exe -m pip install --upgrade pip\n"
     ]
    }
   ],
   "source": [
    "# Instalo manualmente algunas bibliotecas\n",
    "%pip install pip\n",
    "%pip install numpy\n",
    "%pip install pandas\n",
    "%pip install --upgrade requests\n",
    "%pip install requests\n",
    "%pip install lxml\n",
    "%pip install cssselect\n",
    "%pip install urllib3\n",
    "%pip install tqdm"
   ]
  },
  {
   "cell_type": "code",
   "execution_count": 2,
   "metadata": {},
   "outputs": [],
   "source": [
    "# Importo librerías y paquetes necesarios\n",
    "import numpy as np\n",
    "import pandas as pd\n",
    "import zipfile\n",
    "import os\n",
    "import json\n",
    "import requests\n",
    "import ssl\n",
    "import datetime\n",
    "import matplotlib.pyplot as plt\n",
    "import seaborn as sns\n",
    "import urllib3\n",
    "\n",
    "# Importo funciones necesarias\n",
    "from pandas import to_datetime\n",
    "from requests.adapters import HTTPAdapter\n",
    "from requests.packages.urllib3.exceptions import InsecureRequestWarning\n",
    "from requests.packages.urllib3.poolmanager import PoolManager\n",
    "from tqdm import tqdm"
   ]
  },
  {
   "cell_type": "markdown",
   "metadata": {},
   "source": [
    "### Trato advertencias"
   ]
  },
  {
   "cell_type": "code",
   "execution_count": 3,
   "metadata": {},
   "outputs": [],
   "source": [
    "# Deshabilito advertencias de solicitudes inseguras.\n",
    "requests.packages.urllib3.disable_warnings(InsecureRequestWarning)\n",
    "urllib3.disable_warnings(urllib3.exceptions.InsecureRequestWarning)"
   ]
  },
  {
   "cell_type": "markdown",
   "metadata": {},
   "source": [
    "### Llamaré a los archivos con los que trabajaremos."
   ]
  },
  {
   "cell_type": "code",
   "execution_count": 4,
   "metadata": {},
   "outputs": [],
   "source": [
    "# Rutas a los archivos ZIP y el endpoint de la API\n",
    "credit_card_zip_path = r\"C:\\\\Users\\Esteban García\\\\OneDrive\\\\Escritorio\\\\LABs\\\\Datasets para Trabajar NoCountry\\\\DataFrames\\\\Credit Card Transactions Fraud Detection Dataset.zip\"\n",
    "ecommerce_zip_path = r\"C:\\\\Users\\\\Esteban García\\\\OneDrive\\\\Escritorio\\\\LABs\\\\Datasets para Trabajar NoCountry\\\\DataFrames\\\\Fraudulent E-commerce Transactions.zip\"\n",
    "\n",
    "# Endpoint de la API del BCRA (ajustar según la documentación)\n",
    "bcra_api_url = \"https://api.bcra.gob.ar/estadisticas/v2.0/PrincipalesVariables\""
   ]
  },
  {
   "cell_type": "markdown",
   "metadata": {},
   "source": [
    "### Establezco la ruta donde guardaré los df y *.csv"
   ]
  },
  {
   "cell_type": "code",
   "execution_count": 5,
   "metadata": {},
   "outputs": [],
   "source": [
    "output_dir = r\"C:\\\\Users\\\\Esteban García\\\\OneDrive\\\\Escritorio\\\\LABs\\\\Datasets para Trabajar NoCountry\\\\DataFrames\\\\DF Procesados\""
   ]
  },
  {
   "cell_type": "markdown",
   "metadata": {},
   "source": [
    "### Defino la función para explorar los documentos"
   ]
  },
  {
   "cell_type": "code",
   "execution_count": 6,
   "metadata": {},
   "outputs": [],
   "source": [
    "# Función para explorar y analizar los archivos *.zip\n",
    "\n",
    "def list_files_in_zip(zip_path):\n",
    "    \"\"\"Listo los archivos dentro de un archivo ZIP.\"\"\"\n",
    "    with zipfile.ZipFile(zip_path, 'r') as zip_ref:\n",
    "        return zip_ref.namelist()\n",
    "\n",
    "def extract_and_read_zip(zip_path, file_name):\n",
    "    \"\"\"Extraigo los archivos ZIP y leo los datasets.\"\"\"\n",
    "    with zipfile.ZipFile(zip_path, 'r') as zip_ref:\n",
    "        zip_ref.extractall(\"temp_dataset\")\n",
    "        file_path = os.path.join(\"temp_dataset\", file_name)\n",
    "        return pd.read_csv(file_path)"
   ]
  },
  {
   "cell_type": "markdown",
   "metadata": {},
   "source": [
    "### Verifico que la extracción de los archivos fue existosa."
   ]
  },
  {
   "cell_type": "code",
   "execution_count": 7,
   "metadata": {},
   "outputs": [],
   "source": [
    "# Verifico los nombres de los archivos dentro de los ZIPs\n",
    "credit_card_files = list_files_in_zip(credit_card_zip_path)\n",
    "ecommerce_files = list_files_in_zip(ecommerce_zip_path)\n",
    "\n",
    "# Verifico la lectura correcta de los archivos\n",
    "credit_card_file_name = next((file for file in credit_card_files if file.endswith('.csv')), None)\n",
    "ecommerce_file_name = next((file for file in ecommerce_files if file.endswith('.csv')), None)\n",
    "\n",
    "if credit_card_file_name:\n",
    "    credit_card_df = extract_and_read_zip(credit_card_zip_path, credit_card_file_name)\n",
    "else:\n",
    "    print(\"No se encontró un archivo CSV en el ZIP de tarjetas de crédito.\")\n",
    "\n",
    "if ecommerce_file_name:\n",
    "    ecommerce_df = extract_and_read_zip(ecommerce_zip_path, ecommerce_file_name)\n",
    "else:\n",
    "    print(\"No se encontró un archivo CSV en el ZIP de comercio electrónico.\")"
   ]
  },
  {
   "cell_type": "markdown",
   "metadata": {},
   "source": [
    "### Consulto la APIs del BCRA"
   ]
  },
  {
   "cell_type": "code",
   "execution_count": 8,
   "metadata": {},
   "outputs": [
    {
     "name": "stdout",
     "output_type": "stream",
     "text": [
      "   idVariable  cdSerie                                        descripcion  \\\n",
      "0           1      246  Reservas Internacionales del BCRA (en millones...   \n",
      "1           4     7927  Tipo de Cambio Minorista ($ por USD) Comunicac...   \n",
      "2           5      272  Tipo de Cambio Mayorista ($ por USD) Comunicac...   \n",
      "3           6     7935             Tasa de Política Monetaria (en % n.a.)   \n",
      "4           7     1222     BADLAR en pesos de bancos privados (en % n.a.)   \n",
      "\n",
      "        fecha       valor  \n",
      "0  2024-07-19  27565.0000  \n",
      "1  2024-07-23    964.3900  \n",
      "2  2024-07-23    927.3300  \n",
      "3  2024-07-23     40.0000  \n",
      "4  2024-07-22     38.6875  \n",
      "   idVariable       fecha    valor\n",
      "0           1  2024-01-02  23470.0\n",
      "1           1  2024-01-03  23677.0\n",
      "2           1  2024-01-04  23835.0\n",
      "3           1  2024-01-05  24119.0\n",
      "4           1  2024-01-08  23233.0\n"
     ]
    }
   ],
   "source": [
    "# Determino la URL base de la API\n",
    "base_url = \"https://api.bcra.gob.ar/estadisticas/v2.0/\"\n",
    "\n",
    "# Establezco el endpoint para obtener principales variables\n",
    "variables_url = base_url + \"principalesvariables\"\n",
    "\n",
    "# Solicito los datos de principales variables\n",
    "response = requests.get(variables_url, verify=False)\n",
    "if response.status_code == 200:\n",
    "    variables = response.json()['results']\n",
    "else:\n",
    "    print(\"Error al obtener principales variables:\", response.status_code)\n",
    "\n",
    "# Creo un DataFrame con las principales variables\n",
    "bcra_df = pd.DataFrame(variables)\n",
    "\n",
    "# Muestro las primeras filas del DataFrame\n",
    "print(bcra_df.head())\n",
    "\n",
    "# Guardar el DataFrame en un archivo CSV\n",
    "output_dir = r\"C:\\\\Users\\\\Esteban García\\\\OneDrive\\\\Escritorio\\\\LABs\\\\Datasets para Trabajar NoCountry\\\\DataFrames\\\\DF Procesados\"\n",
    "bcra_df.to_csv(output_dir + \"principales_variables.csv\", index=False)\n",
    "\n",
    "# Función para obtener datos de una variable específica\n",
    "def obtener_datos_variable(id_variable, desde, hasta):\n",
    "    datos_url = f\"{base_url}datosvariable/{id_variable}/{desde}/{hasta}\"\n",
    "    response = requests.get(datos_url, verify=False)\n",
    "    if response.status_code == 200:\n",
    "        return response.json()['results']\n",
    "    else:\n",
    "        print(\"Error al obtener datos de la variable:\", response.status_code)\n",
    "        return []\n",
    "\n",
    "# Establezco el rango de fechas para el año 2024\n",
    "id_variable = 1  # ID de la variable a consultar\n",
    "desde = \"2024-01-01\"  # Fecha de inicio del rango\n",
    "hasta = \"2024-12-31\"  # Fecha de fin del rango\n",
    "\n",
    "datos_variable = obtener_datos_variable(id_variable, desde, hasta)\n",
    "\n",
    "# Creo el DataFrame con los datos de la variable\n",
    "bcra_df = pd.DataFrame(datos_variable)\n",
    "\n",
    "# Mostrar las primeras filas del DataFrame de datos de la variable\n",
    "print(bcra_df.head())\n",
    "\n",
    "# Guardar el DataFrame en un archivo CSV\n",
    "bcra_df.to_csv(output_dir + \"datos_variable.csv\", index=False)"
   ]
  },
  {
   "cell_type": "markdown",
   "metadata": {},
   "source": [
    "### Visualizo los df para ver su contenido para tener un primer acercamiento al contenido, visualizarlo y entender los pasos a seguir.\n",
    "\n",
    "Al haber una reducción de personal a última hora, elegimos trabajar con el DataFrame llamado ecommerce_df\n",
    "\n",
    "### Importamos el dataset"
   ]
  },
  {
   "cell_type": "code",
   "execution_count": 9,
   "metadata": {},
   "outputs": [
    {
     "data": {
      "text/html": [
       "<div>\n",
       "<style scoped>\n",
       "    .dataframe tbody tr th:only-of-type {\n",
       "        vertical-align: middle;\n",
       "    }\n",
       "\n",
       "    .dataframe tbody tr th {\n",
       "        vertical-align: top;\n",
       "    }\n",
       "\n",
       "    .dataframe thead th {\n",
       "        text-align: right;\n",
       "    }\n",
       "</style>\n",
       "<table border=\"1\" class=\"dataframe\">\n",
       "  <thead>\n",
       "    <tr style=\"text-align: right;\">\n",
       "      <th></th>\n",
       "      <th>Transaction ID</th>\n",
       "      <th>Customer ID</th>\n",
       "      <th>Transaction Amount</th>\n",
       "      <th>Transaction Date</th>\n",
       "      <th>Payment Method</th>\n",
       "      <th>Product Category</th>\n",
       "      <th>Quantity</th>\n",
       "      <th>Customer Age</th>\n",
       "      <th>Customer Location</th>\n",
       "      <th>Device Used</th>\n",
       "      <th>IP Address</th>\n",
       "      <th>Shipping Address</th>\n",
       "      <th>Billing Address</th>\n",
       "      <th>Is Fraudulent</th>\n",
       "      <th>Account Age Days</th>\n",
       "      <th>Transaction Hour</th>\n",
       "    </tr>\n",
       "  </thead>\n",
       "  <tbody>\n",
       "    <tr>\n",
       "      <th>0</th>\n",
       "      <td>15d2e414-8735-46fc-9e02-80b472b2580f</td>\n",
       "      <td>d1b87f62-51b2-493b-ad6a-77e0fe13e785</td>\n",
       "      <td>58.09</td>\n",
       "      <td>2024-02-20 05:58:41</td>\n",
       "      <td>bank transfer</td>\n",
       "      <td>electronics</td>\n",
       "      <td>1</td>\n",
       "      <td>17</td>\n",
       "      <td>Amandaborough</td>\n",
       "      <td>tablet</td>\n",
       "      <td>212.195.49.198</td>\n",
       "      <td>Unit 8934 Box 0058\\nDPO AA 05437</td>\n",
       "      <td>Unit 8934 Box 0058\\nDPO AA 05437</td>\n",
       "      <td>0</td>\n",
       "      <td>30</td>\n",
       "      <td>5</td>\n",
       "    </tr>\n",
       "    <tr>\n",
       "      <th>1</th>\n",
       "      <td>0bfee1a0-6d5e-40da-a446-d04e73b1b177</td>\n",
       "      <td>37de64d5-e901-4a56-9ea0-af0c24c069cf</td>\n",
       "      <td>389.96</td>\n",
       "      <td>2024-02-25 08:09:45</td>\n",
       "      <td>debit card</td>\n",
       "      <td>electronics</td>\n",
       "      <td>2</td>\n",
       "      <td>40</td>\n",
       "      <td>East Timothy</td>\n",
       "      <td>desktop</td>\n",
       "      <td>208.106.249.121</td>\n",
       "      <td>634 May Keys\\nPort Cherylview, NV 75063</td>\n",
       "      <td>634 May Keys\\nPort Cherylview, NV 75063</td>\n",
       "      <td>0</td>\n",
       "      <td>72</td>\n",
       "      <td>8</td>\n",
       "    </tr>\n",
       "    <tr>\n",
       "      <th>2</th>\n",
       "      <td>e588eef4-b754-468e-9d90-d0e0abfc1af0</td>\n",
       "      <td>1bac88d6-4b22-409a-a06b-425119c57225</td>\n",
       "      <td>134.19</td>\n",
       "      <td>2024-03-18 03:42:55</td>\n",
       "      <td>PayPal</td>\n",
       "      <td>home &amp; garden</td>\n",
       "      <td>2</td>\n",
       "      <td>22</td>\n",
       "      <td>Davismouth</td>\n",
       "      <td>tablet</td>\n",
       "      <td>76.63.88.212</td>\n",
       "      <td>16282 Dana Falls Suite 790\\nRothhaven, IL 15564</td>\n",
       "      <td>16282 Dana Falls Suite 790\\nRothhaven, IL 15564</td>\n",
       "      <td>0</td>\n",
       "      <td>63</td>\n",
       "      <td>3</td>\n",
       "    </tr>\n",
       "    <tr>\n",
       "      <th>3</th>\n",
       "      <td>4de46e52-60c3-49d9-be39-636681009789</td>\n",
       "      <td>2357c76e-9253-4ceb-b44e-ef4b71cb7d4d</td>\n",
       "      <td>226.17</td>\n",
       "      <td>2024-03-16 20:41:31</td>\n",
       "      <td>bank transfer</td>\n",
       "      <td>clothing</td>\n",
       "      <td>5</td>\n",
       "      <td>31</td>\n",
       "      <td>Lynnberg</td>\n",
       "      <td>desktop</td>\n",
       "      <td>207.208.171.73</td>\n",
       "      <td>828 Strong Loaf Apt. 646\\nNew Joshua, UT 84798</td>\n",
       "      <td>828 Strong Loaf Apt. 646\\nNew Joshua, UT 84798</td>\n",
       "      <td>0</td>\n",
       "      <td>124</td>\n",
       "      <td>20</td>\n",
       "    </tr>\n",
       "    <tr>\n",
       "      <th>4</th>\n",
       "      <td>074a76de-fe2d-443e-a00c-f044cdb68e21</td>\n",
       "      <td>45071bc5-9588-43ea-8093-023caec8ea1c</td>\n",
       "      <td>121.53</td>\n",
       "      <td>2024-01-15 05:08:17</td>\n",
       "      <td>bank transfer</td>\n",
       "      <td>clothing</td>\n",
       "      <td>2</td>\n",
       "      <td>51</td>\n",
       "      <td>South Nicole</td>\n",
       "      <td>tablet</td>\n",
       "      <td>190.172.14.169</td>\n",
       "      <td>29799 Jason Hills Apt. 439\\nWest Richardtown, ...</td>\n",
       "      <td>29799 Jason Hills Apt. 439\\nWest Richardtown, ...</td>\n",
       "      <td>0</td>\n",
       "      <td>158</td>\n",
       "      <td>5</td>\n",
       "    </tr>\n",
       "    <tr>\n",
       "      <th>...</th>\n",
       "      <td>...</td>\n",
       "      <td>...</td>\n",
       "      <td>...</td>\n",
       "      <td>...</td>\n",
       "      <td>...</td>\n",
       "      <td>...</td>\n",
       "      <td>...</td>\n",
       "      <td>...</td>\n",
       "      <td>...</td>\n",
       "      <td>...</td>\n",
       "      <td>...</td>\n",
       "      <td>...</td>\n",
       "      <td>...</td>\n",
       "      <td>...</td>\n",
       "      <td>...</td>\n",
       "      <td>...</td>\n",
       "    </tr>\n",
       "    <tr>\n",
       "      <th>1472947</th>\n",
       "      <td>c8604004-2f4c-42ce-a1c4-cd2bebca79bb</td>\n",
       "      <td>f8a534ad-0458-465e-a85b-3ad2cdf391bc</td>\n",
       "      <td>208.48</td>\n",
       "      <td>2024-01-12 23:39:55</td>\n",
       "      <td>PayPal</td>\n",
       "      <td>health &amp; beauty</td>\n",
       "      <td>2</td>\n",
       "      <td>29</td>\n",
       "      <td>North Laurafort</td>\n",
       "      <td>desktop</td>\n",
       "      <td>27.245.104.92</td>\n",
       "      <td>USNV Griffin\\nFPO AA 52700</td>\n",
       "      <td>USNV Griffin\\nFPO AA 52700</td>\n",
       "      <td>0</td>\n",
       "      <td>149</td>\n",
       "      <td>23</td>\n",
       "    </tr>\n",
       "    <tr>\n",
       "      <th>1472948</th>\n",
       "      <td>fff0df19-fd4a-42a5-bc42-64bb7b02edb0</td>\n",
       "      <td>f2ef2239-d9b9-40d0-9993-4b8f305d5a7b</td>\n",
       "      <td>231.57</td>\n",
       "      <td>2024-03-27 04:31:45</td>\n",
       "      <td>credit card</td>\n",
       "      <td>clothing</td>\n",
       "      <td>2</td>\n",
       "      <td>32</td>\n",
       "      <td>Burnsville</td>\n",
       "      <td>tablet</td>\n",
       "      <td>203.54.50.163</td>\n",
       "      <td>478 John Square Apt. 235\\nMillerhaven, GA 68797</td>\n",
       "      <td>478 John Square Apt. 235\\nMillerhaven, GA 68797</td>\n",
       "      <td>0</td>\n",
       "      <td>132</td>\n",
       "      <td>4</td>\n",
       "    </tr>\n",
       "    <tr>\n",
       "      <th>1472949</th>\n",
       "      <td>9e79012f-e00b-47d1-8700-0c302db20d3e</td>\n",
       "      <td>fa5b9a25-9606-478a-8abe-ef20bbb3980f</td>\n",
       "      <td>101.80</td>\n",
       "      <td>2024-01-31 23:51:42</td>\n",
       "      <td>bank transfer</td>\n",
       "      <td>electronics</td>\n",
       "      <td>4</td>\n",
       "      <td>36</td>\n",
       "      <td>Garciafort</td>\n",
       "      <td>mobile</td>\n",
       "      <td>51.241.30.149</td>\n",
       "      <td>351 Frazier Radial Apt. 989\\nPort Charles, OH ...</td>\n",
       "      <td>182 House Island Suite 198\\nEast Scott, FM 84301</td>\n",
       "      <td>0</td>\n",
       "      <td>98</td>\n",
       "      <td>23</td>\n",
       "    </tr>\n",
       "    <tr>\n",
       "      <th>1472950</th>\n",
       "      <td>917066b1-4dfb-4472-b3f0-292663c45d21</td>\n",
       "      <td>04524272-e14f-460b-bc70-5316bd28463d</td>\n",
       "      <td>61.80</td>\n",
       "      <td>2024-01-12 16:21:32</td>\n",
       "      <td>bank transfer</td>\n",
       "      <td>electronics</td>\n",
       "      <td>5</td>\n",
       "      <td>34</td>\n",
       "      <td>Lake Josephberg</td>\n",
       "      <td>desktop</td>\n",
       "      <td>210.67.203.4</td>\n",
       "      <td>27307 Gonzalez Shore Suite 661\\nPort Lynn, WV ...</td>\n",
       "      <td>27307 Gonzalez Shore Suite 661\\nPort Lynn, WV ...</td>\n",
       "      <td>0</td>\n",
       "      <td>191</td>\n",
       "      <td>16</td>\n",
       "    </tr>\n",
       "    <tr>\n",
       "      <th>1472951</th>\n",
       "      <td>d1a811a2-6015-47fa-95e5-0a5282755932</td>\n",
       "      <td>637d5ed1-a4af-4234-a1d9-a3791b6f1bb6</td>\n",
       "      <td>376.44</td>\n",
       "      <td>2024-02-19 18:57:20</td>\n",
       "      <td>bank transfer</td>\n",
       "      <td>clothing</td>\n",
       "      <td>5</td>\n",
       "      <td>34</td>\n",
       "      <td>Fullermouth</td>\n",
       "      <td>desktop</td>\n",
       "      <td>107.116.208.218</td>\n",
       "      <td>Unit 0520 Box 5911\\nDPO AE 75554</td>\n",
       "      <td>Unit 0520 Box 5911\\nDPO AE 75554</td>\n",
       "      <td>0</td>\n",
       "      <td>274</td>\n",
       "      <td>18</td>\n",
       "    </tr>\n",
       "  </tbody>\n",
       "</table>\n",
       "<p>1472952 rows × 16 columns</p>\n",
       "</div>"
      ],
      "text/plain": [
       "                               Transaction ID  \\\n",
       "0        15d2e414-8735-46fc-9e02-80b472b2580f   \n",
       "1        0bfee1a0-6d5e-40da-a446-d04e73b1b177   \n",
       "2        e588eef4-b754-468e-9d90-d0e0abfc1af0   \n",
       "3        4de46e52-60c3-49d9-be39-636681009789   \n",
       "4        074a76de-fe2d-443e-a00c-f044cdb68e21   \n",
       "...                                       ...   \n",
       "1472947  c8604004-2f4c-42ce-a1c4-cd2bebca79bb   \n",
       "1472948  fff0df19-fd4a-42a5-bc42-64bb7b02edb0   \n",
       "1472949  9e79012f-e00b-47d1-8700-0c302db20d3e   \n",
       "1472950  917066b1-4dfb-4472-b3f0-292663c45d21   \n",
       "1472951  d1a811a2-6015-47fa-95e5-0a5282755932   \n",
       "\n",
       "                                  Customer ID  Transaction Amount  \\\n",
       "0        d1b87f62-51b2-493b-ad6a-77e0fe13e785               58.09   \n",
       "1        37de64d5-e901-4a56-9ea0-af0c24c069cf              389.96   \n",
       "2        1bac88d6-4b22-409a-a06b-425119c57225              134.19   \n",
       "3        2357c76e-9253-4ceb-b44e-ef4b71cb7d4d              226.17   \n",
       "4        45071bc5-9588-43ea-8093-023caec8ea1c              121.53   \n",
       "...                                       ...                 ...   \n",
       "1472947  f8a534ad-0458-465e-a85b-3ad2cdf391bc              208.48   \n",
       "1472948  f2ef2239-d9b9-40d0-9993-4b8f305d5a7b              231.57   \n",
       "1472949  fa5b9a25-9606-478a-8abe-ef20bbb3980f              101.80   \n",
       "1472950  04524272-e14f-460b-bc70-5316bd28463d               61.80   \n",
       "1472951  637d5ed1-a4af-4234-a1d9-a3791b6f1bb6              376.44   \n",
       "\n",
       "            Transaction Date Payment Method Product Category  Quantity  \\\n",
       "0        2024-02-20 05:58:41  bank transfer      electronics         1   \n",
       "1        2024-02-25 08:09:45     debit card      electronics         2   \n",
       "2        2024-03-18 03:42:55         PayPal    home & garden         2   \n",
       "3        2024-03-16 20:41:31  bank transfer         clothing         5   \n",
       "4        2024-01-15 05:08:17  bank transfer         clothing         2   \n",
       "...                      ...            ...              ...       ...   \n",
       "1472947  2024-01-12 23:39:55         PayPal  health & beauty         2   \n",
       "1472948  2024-03-27 04:31:45    credit card         clothing         2   \n",
       "1472949  2024-01-31 23:51:42  bank transfer      electronics         4   \n",
       "1472950  2024-01-12 16:21:32  bank transfer      electronics         5   \n",
       "1472951  2024-02-19 18:57:20  bank transfer         clothing         5   \n",
       "\n",
       "         Customer Age Customer Location Device Used       IP Address  \\\n",
       "0                  17     Amandaborough      tablet   212.195.49.198   \n",
       "1                  40      East Timothy     desktop  208.106.249.121   \n",
       "2                  22        Davismouth      tablet     76.63.88.212   \n",
       "3                  31          Lynnberg     desktop   207.208.171.73   \n",
       "4                  51      South Nicole      tablet   190.172.14.169   \n",
       "...               ...               ...         ...              ...   \n",
       "1472947            29   North Laurafort     desktop    27.245.104.92   \n",
       "1472948            32        Burnsville      tablet    203.54.50.163   \n",
       "1472949            36        Garciafort      mobile    51.241.30.149   \n",
       "1472950            34   Lake Josephberg     desktop     210.67.203.4   \n",
       "1472951            34       Fullermouth     desktop  107.116.208.218   \n",
       "\n",
       "                                          Shipping Address  \\\n",
       "0                         Unit 8934 Box 0058\\nDPO AA 05437   \n",
       "1                  634 May Keys\\nPort Cherylview, NV 75063   \n",
       "2          16282 Dana Falls Suite 790\\nRothhaven, IL 15564   \n",
       "3           828 Strong Loaf Apt. 646\\nNew Joshua, UT 84798   \n",
       "4        29799 Jason Hills Apt. 439\\nWest Richardtown, ...   \n",
       "...                                                    ...   \n",
       "1472947                         USNV Griffin\\nFPO AA 52700   \n",
       "1472948    478 John Square Apt. 235\\nMillerhaven, GA 68797   \n",
       "1472949  351 Frazier Radial Apt. 989\\nPort Charles, OH ...   \n",
       "1472950  27307 Gonzalez Shore Suite 661\\nPort Lynn, WV ...   \n",
       "1472951                   Unit 0520 Box 5911\\nDPO AE 75554   \n",
       "\n",
       "                                           Billing Address  Is Fraudulent  \\\n",
       "0                         Unit 8934 Box 0058\\nDPO AA 05437              0   \n",
       "1                  634 May Keys\\nPort Cherylview, NV 75063              0   \n",
       "2          16282 Dana Falls Suite 790\\nRothhaven, IL 15564              0   \n",
       "3           828 Strong Loaf Apt. 646\\nNew Joshua, UT 84798              0   \n",
       "4        29799 Jason Hills Apt. 439\\nWest Richardtown, ...              0   \n",
       "...                                                    ...            ...   \n",
       "1472947                         USNV Griffin\\nFPO AA 52700              0   \n",
       "1472948    478 John Square Apt. 235\\nMillerhaven, GA 68797              0   \n",
       "1472949   182 House Island Suite 198\\nEast Scott, FM 84301              0   \n",
       "1472950  27307 Gonzalez Shore Suite 661\\nPort Lynn, WV ...              0   \n",
       "1472951                   Unit 0520 Box 5911\\nDPO AE 75554              0   \n",
       "\n",
       "         Account Age Days  Transaction Hour  \n",
       "0                      30                 5  \n",
       "1                      72                 8  \n",
       "2                      63                 3  \n",
       "3                     124                20  \n",
       "4                     158                 5  \n",
       "...                   ...               ...  \n",
       "1472947               149                23  \n",
       "1472948               132                 4  \n",
       "1472949                98                23  \n",
       "1472950               191                16  \n",
       "1472951               274                18  \n",
       "\n",
       "[1472952 rows x 16 columns]"
      ]
     },
     "execution_count": 9,
     "metadata": {},
     "output_type": "execute_result"
    }
   ],
   "source": [
    "ecommerce_df"
   ]
  },
  {
   "cell_type": "markdown",
   "metadata": {},
   "source": [
    "### Análisis exploratorio de fraudes en e-commerce_df\n",
    "\n",
    "Visualizamos las columnas"
   ]
  },
  {
   "cell_type": "code",
   "execution_count": 10,
   "metadata": {},
   "outputs": [
    {
     "name": "stdout",
     "output_type": "stream",
     "text": [
      "Index(['Transaction ID', 'Customer ID', 'Transaction Amount',\n",
      "       'Transaction Date', 'Payment Method', 'Product Category', 'Quantity',\n",
      "       'Customer Age', 'Customer Location', 'Device Used', 'IP Address',\n",
      "       'Shipping Address', 'Billing Address', 'Is Fraudulent',\n",
      "       'Account Age Days', 'Transaction Hour'],\n",
      "      dtype='object')\n"
     ]
    }
   ],
   "source": [
    "print(ecommerce_df.columns)"
   ]
  },
  {
   "cell_type": "markdown",
   "metadata": {},
   "source": [
    "### Verificamos los tipos de datos."
   ]
  },
  {
   "cell_type": "code",
   "execution_count": 11,
   "metadata": {},
   "outputs": [
    {
     "name": "stdout",
     "output_type": "stream",
     "text": [
      "Transaction ID         object\n",
      "Customer ID            object\n",
      "Transaction Amount    float64\n",
      "Transaction Date       object\n",
      "Payment Method         object\n",
      "Product Category       object\n",
      "Quantity                int64\n",
      "Customer Age            int64\n",
      "Customer Location      object\n",
      "Device Used            object\n",
      "IP Address             object\n",
      "Shipping Address       object\n",
      "Billing Address        object\n",
      "Is Fraudulent           int64\n",
      "Account Age Days        int64\n",
      "Transaction Hour        int64\n",
      "dtype: object\n"
     ]
    }
   ],
   "source": [
    "\"\"\"lo que pretendemos realizar es identificar las\n",
    "variables numéricas, categóricas y de texto\"\"\"\n",
    "# Verifique los tipos de datos en su DataFrame (opcional)\n",
    "print(ecommerce_df.dtypes)  # Data Analyst: Comentar esta línea si ya conoces los tipos"
   ]
  },
  {
   "cell_type": "markdown",
   "metadata": {},
   "source": [
    "### Procederemos a continuar con un análisis inicial y exploratorio para conocer un poco más de los datos contenidos.\n",
    "\n",
    "Realizamos una evaluación de valores nulos."
   ]
  },
  {
   "cell_type": "code",
   "execution_count": 12,
   "metadata": {},
   "outputs": [
    {
     "name": "stdout",
     "output_type": "stream",
     "text": [
      "Valores nulos por columna:\n",
      "Transaction ID        0\n",
      "Customer ID           0\n",
      "Transaction Amount    0\n",
      "Transaction Date      0\n",
      "Payment Method        0\n",
      "Product Category      0\n",
      "Quantity              0\n",
      "Customer Age          0\n",
      "Customer Location     0\n",
      "Device Used           0\n",
      "IP Address            0\n",
      "Shipping Address      0\n",
      "Billing Address       0\n",
      "Is Fraudulent         0\n",
      "Account Age Days      0\n",
      "Transaction Hour      0\n",
      "dtype: int64\n"
     ]
    }
   ],
   "source": [
    "\"\"\"procederemos a normalizar el contenido de cada fila,\n",
    "lo que pretendemos realizar con este script,\n",
    "analizar la calidad de los datos\"\"\"\n",
    "\n",
    "# Verifico valores nulos en las columnas\n",
    "valores_nulos = ecommerce_df.isna().sum()\n",
    "print(\"Valores nulos por columna:\")\n",
    "print(valores_nulos)"
   ]
  },
  {
   "cell_type": "markdown",
   "metadata": {},
   "source": [
    "### Procederemos a visualizar el contenido de las filas de cada columna."
   ]
  },
  {
   "cell_type": "code",
   "execution_count": 13,
   "metadata": {},
   "outputs": [
    {
     "name": "stdout",
     "output_type": "stream",
     "text": [
      "                         Transaction ID                           Customer ID  \\\n",
      "0  15d2e414-8735-46fc-9e02-80b472b2580f  d1b87f62-51b2-493b-ad6a-77e0fe13e785   \n",
      "1  0bfee1a0-6d5e-40da-a446-d04e73b1b177  37de64d5-e901-4a56-9ea0-af0c24c069cf   \n",
      "2  e588eef4-b754-468e-9d90-d0e0abfc1af0  1bac88d6-4b22-409a-a06b-425119c57225   \n",
      "3  4de46e52-60c3-49d9-be39-636681009789  2357c76e-9253-4ceb-b44e-ef4b71cb7d4d   \n",
      "4  074a76de-fe2d-443e-a00c-f044cdb68e21  45071bc5-9588-43ea-8093-023caec8ea1c   \n",
      "\n",
      "   Transaction Amount     Transaction Date Payment Method Product Category  \\\n",
      "0               58.09  2024-02-20 05:58:41  bank transfer      electronics   \n",
      "1              389.96  2024-02-25 08:09:45     debit card      electronics   \n",
      "2              134.19  2024-03-18 03:42:55         PayPal    home & garden   \n",
      "3              226.17  2024-03-16 20:41:31  bank transfer         clothing   \n",
      "4              121.53  2024-01-15 05:08:17  bank transfer         clothing   \n",
      "\n",
      "   Quantity  Customer Age Customer Location Device Used       IP Address  \\\n",
      "0         1            17     Amandaborough      tablet   212.195.49.198   \n",
      "1         2            40      East Timothy     desktop  208.106.249.121   \n",
      "2         2            22        Davismouth      tablet     76.63.88.212   \n",
      "3         5            31          Lynnberg     desktop   207.208.171.73   \n",
      "4         2            51      South Nicole      tablet   190.172.14.169   \n",
      "\n",
      "                                    Shipping Address  \\\n",
      "0                   Unit 8934 Box 0058\\nDPO AA 05437   \n",
      "1            634 May Keys\\nPort Cherylview, NV 75063   \n",
      "2    16282 Dana Falls Suite 790\\nRothhaven, IL 15564   \n",
      "3     828 Strong Loaf Apt. 646\\nNew Joshua, UT 84798   \n",
      "4  29799 Jason Hills Apt. 439\\nWest Richardtown, ...   \n",
      "\n",
      "                                     Billing Address  Is Fraudulent  \\\n",
      "0                   Unit 8934 Box 0058\\nDPO AA 05437              0   \n",
      "1            634 May Keys\\nPort Cherylview, NV 75063              0   \n",
      "2    16282 Dana Falls Suite 790\\nRothhaven, IL 15564              0   \n",
      "3     828 Strong Loaf Apt. 646\\nNew Joshua, UT 84798              0   \n",
      "4  29799 Jason Hills Apt. 439\\nWest Richardtown, ...              0   \n",
      "\n",
      "   Account Age Days  Transaction Hour  \n",
      "0                30                 5  \n",
      "1                72                 8  \n",
      "2                63                 3  \n",
      "3               124                20  \n",
      "4               158                 5  \n"
     ]
    }
   ],
   "source": [
    "\"\"\"pretendemos tener una idea general del contenido y formato de los datos\"\"\"\n",
    "print(ecommerce_df.head())"
   ]
  },
  {
   "cell_type": "code",
   "execution_count": 14,
   "metadata": {},
   "outputs": [],
   "source": [
    "\"\"\"con esta normalización pretendemos mejorar la consistencia y facilitar su análisis\"\"\"\n",
    "# Normalización del contenido de las columnas con texto\n",
    "columns_with_text = ['Payment Method', 'Product Category', 'Customer Location', 'Device Used', 'Shipping Address', 'Billing Address']\n",
    "\n",
    "for col in columns_with_text:\n",
    "    ecommerce_df[col] = ecommerce_df[col].str.title()"
   ]
  },
  {
   "cell_type": "markdown",
   "metadata": {},
   "source": [
    "### En el próximo paso, procederemos a realizar una manipulación de la columna 'Transaction Date' y 'Transaction Hour'"
   ]
  },
  {
   "cell_type": "code",
   "execution_count": 15,
   "metadata": {},
   "outputs": [
    {
     "name": "stderr",
     "output_type": "stream",
     "text": [
      "100%|██████████| 16/16 [00:00<00:00, 2510.24it/s]\n"
     ]
    },
    {
     "name": "stdout",
     "output_type": "stream",
     "text": [
      "Columna: Transaction ID, Tipo de dato: object\n",
      "Columna: Customer ID, Tipo de dato: object\n",
      "Columna: Transaction Amount, Tipo de dato: float64\n",
      "Columna: Transaction Date, Tipo de dato: object\n",
      "Columna: Payment Method, Tipo de dato: object\n",
      "Columna: Product Category, Tipo de dato: object\n",
      "Columna: Quantity, Tipo de dato: int64\n",
      "Columna: Customer Age, Tipo de dato: int64\n",
      "Columna: Customer Location, Tipo de dato: object\n",
      "Columna: Device Used, Tipo de dato: object\n",
      "Columna: IP Address, Tipo de dato: object\n",
      "Columna: Shipping Address, Tipo de dato: object\n",
      "Columna: Billing Address, Tipo de dato: object\n",
      "Columna: Is Fraudulent, Tipo de dato: int64\n",
      "Columna: Account Age Days, Tipo de dato: int64\n",
      "Columna: Transaction Hour, Tipo de dato: int64\n",
      "\n",
      "Modificando columna 'Transaction Date'...\n",
      "\n",
      "Resultado:\n",
      "                         Transaction ID                           Customer ID  \\\n",
      "0  15d2e414-8735-46fc-9e02-80b472b2580f  d1b87f62-51b2-493b-ad6a-77e0fe13e785   \n",
      "1  0bfee1a0-6d5e-40da-a446-d04e73b1b177  37de64d5-e901-4a56-9ea0-af0c24c069cf   \n",
      "2  e588eef4-b754-468e-9d90-d0e0abfc1af0  1bac88d6-4b22-409a-a06b-425119c57225   \n",
      "3  4de46e52-60c3-49d9-be39-636681009789  2357c76e-9253-4ceb-b44e-ef4b71cb7d4d   \n",
      "4  074a76de-fe2d-443e-a00c-f044cdb68e21  45071bc5-9588-43ea-8093-023caec8ea1c   \n",
      "\n",
      "   Transaction Amount Payment Method Product Category  Quantity  Customer Age  \\\n",
      "0               58.09  Bank Transfer      Electronics         1            17   \n",
      "1              389.96     Debit Card      Electronics         2            40   \n",
      "2              134.19         Paypal    Home & Garden         2            22   \n",
      "3              226.17  Bank Transfer         Clothing         5            31   \n",
      "4              121.53  Bank Transfer         Clothing         2            51   \n",
      "\n",
      "  Customer Location Device Used       IP Address  \\\n",
      "0     Amandaborough      Tablet   212.195.49.198   \n",
      "1      East Timothy     Desktop  208.106.249.121   \n",
      "2        Davismouth      Tablet     76.63.88.212   \n",
      "3          Lynnberg     Desktop   207.208.171.73   \n",
      "4      South Nicole      Tablet   190.172.14.169   \n",
      "\n",
      "                                    Shipping Address  \\\n",
      "0                   Unit 8934 Box 0058\\nDpo Aa 05437   \n",
      "1            634 May Keys\\nPort Cherylview, Nv 75063   \n",
      "2    16282 Dana Falls Suite 790\\nRothhaven, Il 15564   \n",
      "3     828 Strong Loaf Apt. 646\\nNew Joshua, Ut 84798   \n",
      "4  29799 Jason Hills Apt. 439\\nWest Richardtown, ...   \n",
      "\n",
      "                                     Billing Address  Is Fraudulent  \\\n",
      "0                   Unit 8934 Box 0058\\nDpo Aa 05437              0   \n",
      "1            634 May Keys\\nPort Cherylview, Nv 75063              0   \n",
      "2    16282 Dana Falls Suite 790\\nRothhaven, Il 15564              0   \n",
      "3     828 Strong Loaf Apt. 646\\nNew Joshua, Ut 84798              0   \n",
      "4  29799 Jason Hills Apt. 439\\nWest Richardtown, ...              0   \n",
      "\n",
      "   Account Age Days Transaction Hour Transaction Day  \n",
      "0                30         05:58:41      20-02-2024  \n",
      "1                72         08:09:45      25-02-2024  \n",
      "2                63         03:42:55      18-03-2024  \n",
      "3               124         20:41:31      16-03-2024  \n",
      "4               158         05:08:17      15-01-2024  \n"
     ]
    }
   ],
   "source": [
    "\"\"\"analizando las columnas, veo 'Transaction .....', el cual debo modificar, \n",
    "creando dos columnas una que contenga el día y otra que contenga la hora, \n",
    "una vez creadas, cambiaré a los datos contenidos \n",
    "a tipo datetime y después elimino la columna original\"\"\"\n",
    "\n",
    "# Análisis de columnas\n",
    "for col in tqdm(ecommerce_df.columns):\n",
    "    print(f\"Columna: {col}, Tipo de dato: {ecommerce_df[col].dtype}\")\n",
    "\n",
    "# Modificación de la columna \"Transaction Date\"\n",
    "print(\"\\nModificando columna 'Transaction Date'...\")\n",
    "ecommerce_df[['Transaction Day', 'Transaction Hour']] = ecommerce_df['Transaction Date'].str.split(' ', expand=True)\n",
    "\n",
    "# Formateo de las nuevas columnas\n",
    "ecommerce_df['Transaction Day'] = pd.to_datetime(ecommerce_df['Transaction Day'], format='%Y-%m-%d').dt.strftime('%d-%m-%Y')\n",
    "ecommerce_df['Transaction Hour'] = pd.to_datetime(ecommerce_df['Transaction Hour'], format='%H:%M:%S').dt.strftime('%H:%M:%S')\n",
    "\n",
    "# Eliminación de la columna original \"Transaction Date\"\n",
    "if 'Transaction Date' in ecommerce_df.columns:\n",
    "    ecommerce_df.drop(columns=['Transaction Date'], inplace=True)\n",
    "\n",
    "# Visualización del resultado\n",
    "print(\"\\nResultado:\")\n",
    "print(ecommerce_df.head())\n"
   ]
  },
  {
   "cell_type": "code",
   "execution_count": 16,
   "metadata": {},
   "outputs": [],
   "source": [
    "\"\"\"\n",
    "reoganizo las columnas del dataset con la finalidad de darle \n",
    "un orden específico y más entendible\n",
    "\"\"\"\n",
    "# Reorganizo las columnas\n",
    "column_order = [\n",
    "    'Transaction ID', 'Customer ID', 'Transaction Amount', 'Transaction Day', 'Transaction Hour',\n",
    "    'Payment Method', 'Product Category', 'Quantity', 'Customer Age', 'Customer Location',\n",
    "    'Device Used', 'IP Address', 'Shipping Address', 'Billing Address', 'Is Fraudulent',\n",
    "    'Account Age Days'\n",
    "]\n",
    "ecommerce_df = ecommerce_df[column_order]\n",
    "\n",
    "# Elimino la columna original \"Transaction Date\"\n",
    "if 'Transaction Date' in ecommerce_df.columns:\n",
    "    ecommerce_df.drop(columns=['Transaction Date'], inplace=True)"
   ]
  },
  {
   "cell_type": "markdown",
   "metadata": {},
   "source": [
    "### Visualizamos algunas columnas para encontrar anomalías."
   ]
  },
  {
   "cell_type": "code",
   "execution_count": 17,
   "metadata": {},
   "outputs": [
    {
     "name": "stdout",
     "output_type": "stream",
     "text": [
      "Analizando columnas...\n"
     ]
    },
    {
     "name": "stderr",
     "output_type": "stream",
     "text": [
      "100%|██████████| 16/16 [00:00<00:00, 5336.69it/s]"
     ]
    },
    {
     "name": "stdout",
     "output_type": "stream",
     "text": [
      "Columna: Transaction ID, Tipo de dato: object\n",
      "Columna: Customer ID, Tipo de dato: object\n",
      "Columna: Transaction Amount, Tipo de dato: float64\n",
      "Columna: Transaction Day, Tipo de dato: object\n",
      "Columna: Transaction Hour, Tipo de dato: object\n",
      "Columna: Payment Method, Tipo de dato: object\n",
      "Columna: Product Category, Tipo de dato: object\n",
      "Columna: Quantity, Tipo de dato: int64\n",
      "Columna: Customer Age, Tipo de dato: int64\n",
      "Columna: Customer Location, Tipo de dato: object\n",
      "Columna: Device Used, Tipo de dato: object\n",
      "Columna: IP Address, Tipo de dato: object\n",
      "Columna: Shipping Address, Tipo de dato: object\n",
      "Columna: Billing Address, Tipo de dato: object\n",
      "Columna: Is Fraudulent, Tipo de dato: int64\n",
      "Columna: Account Age Days, Tipo de dato: int64\n"
     ]
    },
    {
     "name": "stderr",
     "output_type": "stream",
     "text": [
      "\n"
     ]
    },
    {
     "name": "stdout",
     "output_type": "stream",
     "text": [
      "\n",
      "Detectando valores atípicos...\n"
     ]
    },
    {
     "name": "stderr",
     "output_type": "stream",
     "text": [
      " 20%|██        | 1/5 [02:33<10:13, 153.41s/it]"
     ]
    },
    {
     "name": "stdout",
     "output_type": "stream",
     "text": [
      "Columna: Transaction Amount, Cantidad de valores atípicos: 79180\n"
     ]
    },
    {
     "name": "stderr",
     "output_type": "stream",
     "text": [
      " 40%|████      | 2/5 [05:06<07:39, 153.11s/it]"
     ]
    },
    {
     "name": "stdout",
     "output_type": "stream",
     "text": [
      "Columna: Quantity, Cantidad de valores atípicos: 0\n"
     ]
    },
    {
     "name": "stderr",
     "output_type": "stream",
     "text": [
      " 60%|██████    | 3/5 [07:19<04:47, 143.89s/it]"
     ]
    },
    {
     "name": "stdout",
     "output_type": "stream",
     "text": [
      "Columna: Customer Age, Cantidad de valores atípicos: 13746\n"
     ]
    },
    {
     "name": "stderr",
     "output_type": "stream",
     "text": [
      " 80%|████████  | 4/5 [09:32<02:19, 139.65s/it]"
     ]
    },
    {
     "name": "stdout",
     "output_type": "stream",
     "text": [
      "Columna: Is Fraudulent, Cantidad de valores atípicos: 73838\n"
     ]
    },
    {
     "name": "stderr",
     "output_type": "stream",
     "text": [
      "100%|██████████| 5/5 [11:59<00:00, 143.93s/it]"
     ]
    },
    {
     "name": "stdout",
     "output_type": "stream",
     "text": [
      "Columna: Account Age Days, Cantidad de valores atípicos: 0\n",
      "\n",
      "Creando gráficos de boxplot...\n"
     ]
    },
    {
     "name": "stderr",
     "output_type": "stream",
     "text": [
      "\n"
     ]
    },
    {
     "data": {
      "image/png": "[encoded data removed]",
      "text/plain": [
       "<Figure size 1200x600 with 1 Axes>"
      ]
     },
     "metadata": {},
     "output_type": "display_data"
    }
   ],
   "source": [
    "\"\"\"la finalidad de seleccionar las columnas y visualizar su información para \n",
    "detectar valores atípicos utilizamos box plots para visualizar la \n",
    "distribución de los datos e identificar posibles outliers\n",
    "\"\"\"\n",
    "\n",
    "# Análisis de columnas\n",
    "print(\"Analizando columnas...\")\n",
    "for col in tqdm(ecommerce_df.columns):\n",
    "    print(f\"Columna: {col}, Tipo de dato: {ecommerce_df[col].dtype}\")\n",
    "\n",
    "# Selección de columnas numéricas\n",
    "numeric_columns = ecommerce_df.select_dtypes(include=['float64', 'int64'])\n",
    "\n",
    "# Detección de valores atípicos con tqdm\n",
    "print(\"\\nDetectando valores atípicos...\")\n",
    "for col in tqdm(numeric_columns.columns):\n",
    "    Q1 = numeric_columns[col].quantile(0.25)\n",
    "    Q3 = numeric_columns[col].quantile(0.75)\n",
    "    IQR = Q3 - Q1\n",
    "\n",
    "    lower_threshold = Q1 - 1.5 * IQR\n",
    "    upper_threshold = Q3 + 1.5 * IQR\n",
    "\n",
    "    outliers_count = 0\n",
    "    for index, row in ecommerce_df.iterrows():\n",
    "        if row[col] < lower_threshold or row[col] > upper_threshold:\n",
    "            outliers_count += 1\n",
    "\n",
    "    print(f\"Columna: {col}, Cantidad de valores atípicos: {outliers_count}\")\n",
    "\n",
    "\"\"\"\n",
    "los box splot permitirán visualizar la distribución de datos:\n",
    "la mediana, los cuartiles y valores atípicos\n",
    "\"\"\"\n",
    "\n",
    "# Creación de gráficos de boxplot\n",
    "print(\"\\nCreando gráficos de boxplot...\")\n",
    "plt.figure(figsize=(12, 6))\n",
    "sns.boxplot(data=numeric_columns)\n",
    "plt.xticks(rotation=45)\n",
    "plt.title(\"Box Plot de Columnas Numéricas\")\n",
    "plt.xlabel(\"Columnas\")\n",
    "plt.ylabel(\"Valores\")\n",
    "plt.show()\n"
   ]
  },
  {
   "cell_type": "code",
   "execution_count": 19,
   "metadata": {},
   "outputs": [
    {
     "name": "stdout",
     "output_type": "stream",
     "text": [
      "\n",
      "Estadísticas de 'Customer Age':\n",
      "count    1.472952e+06\n",
      "mean     3.451208e+01\n",
      "std      1.000313e+01\n",
      "min     -1.600000e+01\n",
      "25%      2.800000e+01\n",
      "50%      3.500000e+01\n",
      "75%      4.100000e+01\n",
      "max      8.600000e+01\n",
      "Name: Customer Age, dtype: float64\n"
     ]
    }
   ],
   "source": [
    "\"\"\"\n",
    "en la columna que estamos analizando, trataremos de identificar \n",
    "posibles valores atípicos utilizando las estadísticas descriptivas\n",
    "de la columna para obtener la información sobre la distribución de los datos\n",
    "\"\"\"\n",
    "# Verifico valores atípicos (outliers) en 'Customer Age'\n",
    "print(\"\\nEstadísticas de 'Customer Age':\")\n",
    "print(ecommerce_df['Customer Age'].describe())\n"
   ]
  },
  {
   "cell_type": "markdown",
   "metadata": {},
   "source": [
    "Al analizar la salida de 'Customer Age' con describe, se ha identificado un valor atípico en la columna 'Customer Age'. Este outlier debe ser tratado antes de realizar análisis posteriores para obtener resultados más precisos y confiables."
   ]
  },
  {
   "cell_type": "markdown",
   "metadata": {},
   "source": [
    "### Vamos a visualizar los outliers saber ¿qué porcentaje representan? y eliminarlos para nuestro posterior trabajo de EDA."
   ]
  },
  {
   "cell_type": "code",
   "execution_count": 20,
   "metadata": {},
   "outputs": [],
   "source": [
    "\"\"\"\n",
    "utilizaré cuartiles y el IQR o rango intercuatílico para definir \n",
    "los límites superior e inferior, la finalidad de dicho trabajo,\n",
    "es que los valores fuera de esos rangos serán considerados outliers\n",
    "\"\"\"\n",
    "# Obtengo el IQR\n",
    "iqr = ecommerce_df['Customer Age'].quantile(0.75) - ecommerce_df['Customer Age'].quantile(0.25)\n",
    "\n",
    "# Defino el límite superior e inferior\n",
    "upper_bound = ecommerce_df['Customer Age'].quantile(0.75) + 1.5 * iqr\n",
    "lower_bound = ecommerce_df['Customer Age'].quantile(0.25) - 1.5 * iqr\n",
    "\n",
    "# Identifico outliers\n",
    "outliers = ecommerce_df[(ecommerce_df['Customer Age'] > upper_bound) | (ecommerce_df['Customer Age'] < lower_bound)]\n"
   ]
  },
  {
   "cell_type": "markdown",
   "metadata": {},
   "source": [
    "### Visualizo para entender dicha información"
   ]
  },
  {
   "cell_type": "code",
   "execution_count": 21,
   "metadata": {},
   "outputs": [
    {
     "data": {
      "image/png": "[encoded data removed]",
      "text/plain": [
       "<Figure size 640x480 with 1 Axes>"
      ]
     },
     "metadata": {},
     "output_type": "display_data"
    }
   ],
   "source": [
    "sns.boxplot(\n",
    "    x = \"Customer Age\",\n",
    "    showmeans=True,  # Show mean as a diamond\n",
    "    data=ecommerce_df\n",
    ")\n",
    "\n",
    "# Highlight outliers with red points\n",
    "plt.scatter(\n",
    "    outliers['Customer Age'],  # x-coordinates of outliers\n",
    "    outliers['Customer Age'],  # y-coordinates of outliers (same as x for points)\n",
    "    color='red',\n",
    "    label='Outliers'\n",
    ")\n",
    "\n",
    "# Add labels and title\n",
    "plt.xlabel('Customer Age')\n",
    "plt.ylabel('Age')\n",
    "plt.title('Customer Age Distribution with Outliers')\n",
    "\n",
    "# Show legend\n",
    "plt.legend()\n",
    "\n",
    "# Display the plot\n",
    "plt.show()\n"
   ]
  },
  {
   "cell_type": "markdown",
   "metadata": {},
   "source": [
    "### Determinaré el porcentaje de datos negativos."
   ]
  },
  {
   "cell_type": "code",
   "execution_count": 22,
   "metadata": {},
   "outputs": [
    {
     "name": "stdout",
     "output_type": "stream",
     "text": [
      "Porcentaje de edades negativas: 0.02%\n"
     ]
    }
   ],
   "source": [
    "\"\"\"\n",
    "identificadas las edades negativas, (no existen edades negativas en la realidad)\n",
    "se estima que es un error en la carga de los datos,\n",
    "calculamos el porcentaje que representan sobre el total del df para posteriormente eliminarlos\n",
    "\"\"\"\n",
    "# Identifico datos negativos en la columna edad\n",
    "negative_ages = ecommerce_df[ecommerce_df['Customer Age'] < 0]\n",
    "\n",
    "# Calculo el total\n",
    "total_records = len(ecommerce_df)\n",
    "\n",
    "# Calculo los negativos\n",
    "negative_age_count = len(negative_ages)\n",
    "\n",
    "# Calculo el porcentaje que representa sobre el total de la columna\n",
    "negative_age_percentage = (negative_age_count / total_records) * 100\n",
    "\n",
    "# Visualizo\n",
    "print(f\"Porcentaje de edades negativas: {negative_age_percentage:.2f}%\")\n"
   ]
  },
  {
   "cell_type": "markdown",
   "metadata": {},
   "source": [
    "El ser un porcentaje muy bajo, no afectará la eliminación de los mismos."
   ]
  },
  {
   "cell_type": "code",
   "execution_count": 23,
   "metadata": {},
   "outputs": [
    {
     "name": "stdout",
     "output_type": "stream",
     "text": [
      "Cantidad de registros restantes: 1472694\n"
     ]
    }
   ],
   "source": [
    "# Procederé a eliminar los outliers o edades negativas ya que las mismas no existen.\n",
    "ecommerce_df = ecommerce_df[ecommerce_df['Customer Age'] >= 0]\n",
    "\n",
    "\"\"\"aquí eliminamos los outliers y creamos un nuevo\n",
    "dataset que solo incluyan registros válidos\n",
    "cuydas edades sean mayores o iguales a cero\"\"\"\n",
    "\n",
    "# Verifico la cantidad de registros restantes\n",
    "print(\"Cantidad de registros restantes:\", len(ecommerce_df))"
   ]
  },
  {
   "cell_type": "markdown",
   "metadata": {},
   "source": [
    "### Ahora procedo a graficar un histograma."
   ]
  },
  {
   "cell_type": "code",
   "execution_count": 24,
   "metadata": {},
   "outputs": [
    {
     "data": {
      "image/png": "[encoded data removed]",
      "text/plain": [
       "<Figure size 640x480 with 1 Axes>"
      ]
     },
     "metadata": {},
     "output_type": "display_data"
    }
   ],
   "source": [
    "\"\"\"\n",
    "la finalidad de este bloque es visualizar la distribución de las edades\n",
    "después de haber eliminado los outliers, para ello utilizaremos un\n",
    "histograma para mostrar dicha frecuencia de los valores de edad\n",
    "agregando líneas rojas para indicar los límites superior e inferior\n",
    "\"\"\"\n",
    "plt.hist(ecommerce_df['Customer Age'])\n",
    "\n",
    "# Plot threshold lines for upper and lower bounds\n",
    "plt.axvline(x=upper_bound, color='red', linestyle='--', label='Upper Bound')\n",
    "plt.axvline(x=lower_bound, color='red', linestyle='--', label='Lower Bound')\n",
    "\n",
    "# Add labels and title\n",
    "plt.xlabel('Customer Age')\n",
    "plt.ylabel('Frequency')\n",
    "plt.title('Customer Age Distribution with Outlier Thresholds')\n",
    "\n",
    "# Add legend\n",
    "plt.legend()\n",
    "\n",
    "# Display the plot\n",
    "plt.show()\n"
   ]
  },
  {
   "cell_type": "code",
   "execution_count": 25,
   "metadata": {},
   "outputs": [
    {
     "data": {
      "text/html": [
       "<div>\n",
       "<style scoped>\n",
       "    .dataframe tbody tr th:only-of-type {\n",
       "        vertical-align: middle;\n",
       "    }\n",
       "\n",
       "    .dataframe tbody tr th {\n",
       "        vertical-align: top;\n",
       "    }\n",
       "\n",
       "    .dataframe thead th {\n",
       "        text-align: right;\n",
       "    }\n",
       "</style>\n",
       "<table border=\"1\" class=\"dataframe\">\n",
       "  <thead>\n",
       "    <tr style=\"text-align: right;\">\n",
       "      <th></th>\n",
       "      <th>Transaction ID</th>\n",
       "      <th>Customer ID</th>\n",
       "      <th>Transaction Amount</th>\n",
       "      <th>Transaction Day</th>\n",
       "      <th>Transaction Hour</th>\n",
       "      <th>Payment Method</th>\n",
       "      <th>Product Category</th>\n",
       "      <th>Quantity</th>\n",
       "      <th>Customer Age</th>\n",
       "      <th>Customer Location</th>\n",
       "      <th>Device Used</th>\n",
       "      <th>IP Address</th>\n",
       "      <th>Shipping Address</th>\n",
       "      <th>Billing Address</th>\n",
       "      <th>Is Fraudulent</th>\n",
       "      <th>Account Age Days</th>\n",
       "    </tr>\n",
       "  </thead>\n",
       "  <tbody>\n",
       "    <tr>\n",
       "      <th>0</th>\n",
       "      <td>15d2e414-8735-46fc-9e02-80b472b2580f</td>\n",
       "      <td>d1b87f62-51b2-493b-ad6a-77e0fe13e785</td>\n",
       "      <td>58.09</td>\n",
       "      <td>20-02-2024</td>\n",
       "      <td>05:58:41</td>\n",
       "      <td>Bank Transfer</td>\n",
       "      <td>Electronics</td>\n",
       "      <td>1</td>\n",
       "      <td>17</td>\n",
       "      <td>Amandaborough</td>\n",
       "      <td>Tablet</td>\n",
       "      <td>212.195.49.198</td>\n",
       "      <td>Unit 8934 Box 0058\\nDpo Aa 05437</td>\n",
       "      <td>Unit 8934 Box 0058\\nDpo Aa 05437</td>\n",
       "      <td>0</td>\n",
       "      <td>30</td>\n",
       "    </tr>\n",
       "    <tr>\n",
       "      <th>1</th>\n",
       "      <td>0bfee1a0-6d5e-40da-a446-d04e73b1b177</td>\n",
       "      <td>37de64d5-e901-4a56-9ea0-af0c24c069cf</td>\n",
       "      <td>389.96</td>\n",
       "      <td>25-02-2024</td>\n",
       "      <td>08:09:45</td>\n",
       "      <td>Debit Card</td>\n",
       "      <td>Electronics</td>\n",
       "      <td>2</td>\n",
       "      <td>40</td>\n",
       "      <td>East Timothy</td>\n",
       "      <td>Desktop</td>\n",
       "      <td>208.106.249.121</td>\n",
       "      <td>634 May Keys\\nPort Cherylview, Nv 75063</td>\n",
       "      <td>634 May Keys\\nPort Cherylview, Nv 75063</td>\n",
       "      <td>0</td>\n",
       "      <td>72</td>\n",
       "    </tr>\n",
       "    <tr>\n",
       "      <th>2</th>\n",
       "      <td>e588eef4-b754-468e-9d90-d0e0abfc1af0</td>\n",
       "      <td>1bac88d6-4b22-409a-a06b-425119c57225</td>\n",
       "      <td>134.19</td>\n",
       "      <td>18-03-2024</td>\n",
       "      <td>03:42:55</td>\n",
       "      <td>Paypal</td>\n",
       "      <td>Home &amp; Garden</td>\n",
       "      <td>2</td>\n",
       "      <td>22</td>\n",
       "      <td>Davismouth</td>\n",
       "      <td>Tablet</td>\n",
       "      <td>76.63.88.212</td>\n",
       "      <td>16282 Dana Falls Suite 790\\nRothhaven, Il 15564</td>\n",
       "      <td>16282 Dana Falls Suite 790\\nRothhaven, Il 15564</td>\n",
       "      <td>0</td>\n",
       "      <td>63</td>\n",
       "    </tr>\n",
       "    <tr>\n",
       "      <th>3</th>\n",
       "      <td>4de46e52-60c3-49d9-be39-636681009789</td>\n",
       "      <td>2357c76e-9253-4ceb-b44e-ef4b71cb7d4d</td>\n",
       "      <td>226.17</td>\n",
       "      <td>16-03-2024</td>\n",
       "      <td>20:41:31</td>\n",
       "      <td>Bank Transfer</td>\n",
       "      <td>Clothing</td>\n",
       "      <td>5</td>\n",
       "      <td>31</td>\n",
       "      <td>Lynnberg</td>\n",
       "      <td>Desktop</td>\n",
       "      <td>207.208.171.73</td>\n",
       "      <td>828 Strong Loaf Apt. 646\\nNew Joshua, Ut 84798</td>\n",
       "      <td>828 Strong Loaf Apt. 646\\nNew Joshua, Ut 84798</td>\n",
       "      <td>0</td>\n",
       "      <td>124</td>\n",
       "    </tr>\n",
       "    <tr>\n",
       "      <th>4</th>\n",
       "      <td>074a76de-fe2d-443e-a00c-f044cdb68e21</td>\n",
       "      <td>45071bc5-9588-43ea-8093-023caec8ea1c</td>\n",
       "      <td>121.53</td>\n",
       "      <td>15-01-2024</td>\n",
       "      <td>05:08:17</td>\n",
       "      <td>Bank Transfer</td>\n",
       "      <td>Clothing</td>\n",
       "      <td>2</td>\n",
       "      <td>51</td>\n",
       "      <td>South Nicole</td>\n",
       "      <td>Tablet</td>\n",
       "      <td>190.172.14.169</td>\n",
       "      <td>29799 Jason Hills Apt. 439\\nWest Richardtown, ...</td>\n",
       "      <td>29799 Jason Hills Apt. 439\\nWest Richardtown, ...</td>\n",
       "      <td>0</td>\n",
       "      <td>158</td>\n",
       "    </tr>\n",
       "    <tr>\n",
       "      <th>...</th>\n",
       "      <td>...</td>\n",
       "      <td>...</td>\n",
       "      <td>...</td>\n",
       "      <td>...</td>\n",
       "      <td>...</td>\n",
       "      <td>...</td>\n",
       "      <td>...</td>\n",
       "      <td>...</td>\n",
       "      <td>...</td>\n",
       "      <td>...</td>\n",
       "      <td>...</td>\n",
       "      <td>...</td>\n",
       "      <td>...</td>\n",
       "      <td>...</td>\n",
       "      <td>...</td>\n",
       "      <td>...</td>\n",
       "    </tr>\n",
       "    <tr>\n",
       "      <th>1472947</th>\n",
       "      <td>c8604004-2f4c-42ce-a1c4-cd2bebca79bb</td>\n",
       "      <td>f8a534ad-0458-465e-a85b-3ad2cdf391bc</td>\n",
       "      <td>208.48</td>\n",
       "      <td>12-01-2024</td>\n",
       "      <td>23:39:55</td>\n",
       "      <td>Paypal</td>\n",
       "      <td>Health &amp; Beauty</td>\n",
       "      <td>2</td>\n",
       "      <td>29</td>\n",
       "      <td>North Laurafort</td>\n",
       "      <td>Desktop</td>\n",
       "      <td>27.245.104.92</td>\n",
       "      <td>Usnv Griffin\\nFpo Aa 52700</td>\n",
       "      <td>Usnv Griffin\\nFpo Aa 52700</td>\n",
       "      <td>0</td>\n",
       "      <td>149</td>\n",
       "    </tr>\n",
       "    <tr>\n",
       "      <th>1472948</th>\n",
       "      <td>fff0df19-fd4a-42a5-bc42-64bb7b02edb0</td>\n",
       "      <td>f2ef2239-d9b9-40d0-9993-4b8f305d5a7b</td>\n",
       "      <td>231.57</td>\n",
       "      <td>27-03-2024</td>\n",
       "      <td>04:31:45</td>\n",
       "      <td>Credit Card</td>\n",
       "      <td>Clothing</td>\n",
       "      <td>2</td>\n",
       "      <td>32</td>\n",
       "      <td>Burnsville</td>\n",
       "      <td>Tablet</td>\n",
       "      <td>203.54.50.163</td>\n",
       "      <td>478 John Square Apt. 235\\nMillerhaven, Ga 68797</td>\n",
       "      <td>478 John Square Apt. 235\\nMillerhaven, Ga 68797</td>\n",
       "      <td>0</td>\n",
       "      <td>132</td>\n",
       "    </tr>\n",
       "    <tr>\n",
       "      <th>1472949</th>\n",
       "      <td>9e79012f-e00b-47d1-8700-0c302db20d3e</td>\n",
       "      <td>fa5b9a25-9606-478a-8abe-ef20bbb3980f</td>\n",
       "      <td>101.80</td>\n",
       "      <td>31-01-2024</td>\n",
       "      <td>23:51:42</td>\n",
       "      <td>Bank Transfer</td>\n",
       "      <td>Electronics</td>\n",
       "      <td>4</td>\n",
       "      <td>36</td>\n",
       "      <td>Garciafort</td>\n",
       "      <td>Mobile</td>\n",
       "      <td>51.241.30.149</td>\n",
       "      <td>351 Frazier Radial Apt. 989\\nPort Charles, Oh ...</td>\n",
       "      <td>182 House Island Suite 198\\nEast Scott, Fm 84301</td>\n",
       "      <td>0</td>\n",
       "      <td>98</td>\n",
       "    </tr>\n",
       "    <tr>\n",
       "      <th>1472950</th>\n",
       "      <td>917066b1-4dfb-4472-b3f0-292663c45d21</td>\n",
       "      <td>04524272-e14f-460b-bc70-5316bd28463d</td>\n",
       "      <td>61.80</td>\n",
       "      <td>12-01-2024</td>\n",
       "      <td>16:21:32</td>\n",
       "      <td>Bank Transfer</td>\n",
       "      <td>Electronics</td>\n",
       "      <td>5</td>\n",
       "      <td>34</td>\n",
       "      <td>Lake Josephberg</td>\n",
       "      <td>Desktop</td>\n",
       "      <td>210.67.203.4</td>\n",
       "      <td>27307 Gonzalez Shore Suite 661\\nPort Lynn, Wv ...</td>\n",
       "      <td>27307 Gonzalez Shore Suite 661\\nPort Lynn, Wv ...</td>\n",
       "      <td>0</td>\n",
       "      <td>191</td>\n",
       "    </tr>\n",
       "    <tr>\n",
       "      <th>1472951</th>\n",
       "      <td>d1a811a2-6015-47fa-95e5-0a5282755932</td>\n",
       "      <td>637d5ed1-a4af-4234-a1d9-a3791b6f1bb6</td>\n",
       "      <td>376.44</td>\n",
       "      <td>19-02-2024</td>\n",
       "      <td>18:57:20</td>\n",
       "      <td>Bank Transfer</td>\n",
       "      <td>Clothing</td>\n",
       "      <td>5</td>\n",
       "      <td>34</td>\n",
       "      <td>Fullermouth</td>\n",
       "      <td>Desktop</td>\n",
       "      <td>107.116.208.218</td>\n",
       "      <td>Unit 0520 Box 5911\\nDpo Ae 75554</td>\n",
       "      <td>Unit 0520 Box 5911\\nDpo Ae 75554</td>\n",
       "      <td>0</td>\n",
       "      <td>274</td>\n",
       "    </tr>\n",
       "  </tbody>\n",
       "</table>\n",
       "<p>1472694 rows × 16 columns</p>\n",
       "</div>"
      ],
      "text/plain": [
       "                               Transaction ID  \\\n",
       "0        15d2e414-8735-46fc-9e02-80b472b2580f   \n",
       "1        0bfee1a0-6d5e-40da-a446-d04e73b1b177   \n",
       "2        e588eef4-b754-468e-9d90-d0e0abfc1af0   \n",
       "3        4de46e52-60c3-49d9-be39-636681009789   \n",
       "4        074a76de-fe2d-443e-a00c-f044cdb68e21   \n",
       "...                                       ...   \n",
       "1472947  c8604004-2f4c-42ce-a1c4-cd2bebca79bb   \n",
       "1472948  fff0df19-fd4a-42a5-bc42-64bb7b02edb0   \n",
       "1472949  9e79012f-e00b-47d1-8700-0c302db20d3e   \n",
       "1472950  917066b1-4dfb-4472-b3f0-292663c45d21   \n",
       "1472951  d1a811a2-6015-47fa-95e5-0a5282755932   \n",
       "\n",
       "                                  Customer ID  Transaction Amount  \\\n",
       "0        d1b87f62-51b2-493b-ad6a-77e0fe13e785               58.09   \n",
       "1        37de64d5-e901-4a56-9ea0-af0c24c069cf              389.96   \n",
       "2        1bac88d6-4b22-409a-a06b-425119c57225              134.19   \n",
       "3        2357c76e-9253-4ceb-b44e-ef4b71cb7d4d              226.17   \n",
       "4        45071bc5-9588-43ea-8093-023caec8ea1c              121.53   \n",
       "...                                       ...                 ...   \n",
       "1472947  f8a534ad-0458-465e-a85b-3ad2cdf391bc              208.48   \n",
       "1472948  f2ef2239-d9b9-40d0-9993-4b8f305d5a7b              231.57   \n",
       "1472949  fa5b9a25-9606-478a-8abe-ef20bbb3980f              101.80   \n",
       "1472950  04524272-e14f-460b-bc70-5316bd28463d               61.80   \n",
       "1472951  637d5ed1-a4af-4234-a1d9-a3791b6f1bb6              376.44   \n",
       "\n",
       "        Transaction Day Transaction Hour Payment Method Product Category  \\\n",
       "0            20-02-2024         05:58:41  Bank Transfer      Electronics   \n",
       "1            25-02-2024         08:09:45     Debit Card      Electronics   \n",
       "2            18-03-2024         03:42:55         Paypal    Home & Garden   \n",
       "3            16-03-2024         20:41:31  Bank Transfer         Clothing   \n",
       "4            15-01-2024         05:08:17  Bank Transfer         Clothing   \n",
       "...                 ...              ...            ...              ...   \n",
       "1472947      12-01-2024         23:39:55         Paypal  Health & Beauty   \n",
       "1472948      27-03-2024         04:31:45    Credit Card         Clothing   \n",
       "1472949      31-01-2024         23:51:42  Bank Transfer      Electronics   \n",
       "1472950      12-01-2024         16:21:32  Bank Transfer      Electronics   \n",
       "1472951      19-02-2024         18:57:20  Bank Transfer         Clothing   \n",
       "\n",
       "         Quantity  Customer Age Customer Location Device Used  \\\n",
       "0               1            17     Amandaborough      Tablet   \n",
       "1               2            40      East Timothy     Desktop   \n",
       "2               2            22        Davismouth      Tablet   \n",
       "3               5            31          Lynnberg     Desktop   \n",
       "4               2            51      South Nicole      Tablet   \n",
       "...           ...           ...               ...         ...   \n",
       "1472947         2            29   North Laurafort     Desktop   \n",
       "1472948         2            32        Burnsville      Tablet   \n",
       "1472949         4            36        Garciafort      Mobile   \n",
       "1472950         5            34   Lake Josephberg     Desktop   \n",
       "1472951         5            34       Fullermouth     Desktop   \n",
       "\n",
       "              IP Address                                   Shipping Address  \\\n",
       "0         212.195.49.198                   Unit 8934 Box 0058\\nDpo Aa 05437   \n",
       "1        208.106.249.121            634 May Keys\\nPort Cherylview, Nv 75063   \n",
       "2           76.63.88.212    16282 Dana Falls Suite 790\\nRothhaven, Il 15564   \n",
       "3         207.208.171.73     828 Strong Loaf Apt. 646\\nNew Joshua, Ut 84798   \n",
       "4         190.172.14.169  29799 Jason Hills Apt. 439\\nWest Richardtown, ...   \n",
       "...                  ...                                                ...   \n",
       "1472947    27.245.104.92                         Usnv Griffin\\nFpo Aa 52700   \n",
       "1472948    203.54.50.163    478 John Square Apt. 235\\nMillerhaven, Ga 68797   \n",
       "1472949    51.241.30.149  351 Frazier Radial Apt. 989\\nPort Charles, Oh ...   \n",
       "1472950     210.67.203.4  27307 Gonzalez Shore Suite 661\\nPort Lynn, Wv ...   \n",
       "1472951  107.116.208.218                   Unit 0520 Box 5911\\nDpo Ae 75554   \n",
       "\n",
       "                                           Billing Address  Is Fraudulent  \\\n",
       "0                         Unit 8934 Box 0058\\nDpo Aa 05437              0   \n",
       "1                  634 May Keys\\nPort Cherylview, Nv 75063              0   \n",
       "2          16282 Dana Falls Suite 790\\nRothhaven, Il 15564              0   \n",
       "3           828 Strong Loaf Apt. 646\\nNew Joshua, Ut 84798              0   \n",
       "4        29799 Jason Hills Apt. 439\\nWest Richardtown, ...              0   \n",
       "...                                                    ...            ...   \n",
       "1472947                         Usnv Griffin\\nFpo Aa 52700              0   \n",
       "1472948    478 John Square Apt. 235\\nMillerhaven, Ga 68797              0   \n",
       "1472949   182 House Island Suite 198\\nEast Scott, Fm 84301              0   \n",
       "1472950  27307 Gonzalez Shore Suite 661\\nPort Lynn, Wv ...              0   \n",
       "1472951                   Unit 0520 Box 5911\\nDpo Ae 75554              0   \n",
       "\n",
       "         Account Age Days  \n",
       "0                      30  \n",
       "1                      72  \n",
       "2                      63  \n",
       "3                     124  \n",
       "4                     158  \n",
       "...                   ...  \n",
       "1472947               149  \n",
       "1472948               132  \n",
       "1472949                98  \n",
       "1472950               191  \n",
       "1472951               274  \n",
       "\n",
       "[1472694 rows x 16 columns]"
      ]
     },
     "execution_count": 25,
     "metadata": {},
     "output_type": "execute_result"
    }
   ],
   "source": [
    "ecommerce_df"
   ]
  },
  {
   "cell_type": "markdown",
   "metadata": {},
   "source": [
    "### Procederé a realizar una normalización del contenido."
   ]
  },
  {
   "cell_type": "code",
   "execution_count": 26,
   "metadata": {},
   "outputs": [
    {
     "name": "stdout",
     "output_type": "stream",
     "text": [
      "El nombre de la columna 'Transaction ID' no coincide con su contenido esperado.\n",
      "El nombre de la columna 'Customer ID' no coincide con su contenido esperado.\n",
      "El nombre de la columna 'Transaction Amount' no coincide con su contenido esperado.\n",
      "El nombre de la columna 'Transaction Day' no coincide con su contenido esperado.\n",
      "El nombre de la columna 'Transaction Hour' no coincide con su contenido esperado.\n",
      "El nombre de la columna 'Payment Method' no coincide con su contenido esperado.\n",
      "El nombre de la columna 'Product Category' no coincide con su contenido esperado.\n",
      "El nombre de la columna 'Quantity' no coincide con su contenido esperado.\n",
      "El nombre de la columna 'Customer Age' no coincide con su contenido esperado.\n",
      "El nombre de la columna 'Customer Location' no coincide con su contenido esperado.\n",
      "El nombre de la columna 'Device Used' no coincide con su contenido esperado.\n",
      "El nombre de la columna 'IP Address' no coincide con su contenido esperado.\n",
      "El nombre de la columna 'Shipping Address' no coincide con su contenido esperado.\n",
      "El nombre de la columna 'Billing Address' no coincide con su contenido esperado.\n",
      "El nombre de la columna 'Is Fraudulent' no coincide con su contenido esperado.\n",
      "El nombre de la columna 'Account Age Days' no coincide con su contenido esperado.\n"
     ]
    }
   ],
   "source": [
    "\"\"\"\n",
    "verifico si los nombres de las columnas del df coinciden con su contenido esperado, \n",
    "recorreremos las columnas y compararemos cada nombre con su versión normalizada\n",
    ".... lo que haremos es reemplazar espacios por guiones bajos y convirtiendo a minúsculas\n",
    ".... Si se encuentra alguna discrepancia, imprimiremos un mensaje de advertencia.\n",
    "\"\"\"\n",
    "# Verifico si los nombres de las columnas coinciden con su contenido\n",
    "nombres_columnas = ecommerce_df.columns\n",
    "for columna in nombres_columnas:\n",
    "    contenido_esperado = columna.replace(\" \", \"_\").lower()  \n",
    "    if contenido_esperado not in ecommerce_df.columns:\n",
    "        print(f\"El nombre de la columna '{columna}' no coincide con su contenido esperado.\")"
   ]
  },
  {
   "cell_type": "code",
   "execution_count": 27,
   "metadata": {},
   "outputs": [],
   "source": [
    "\"\"\"\n",
    "buscamos con esta normalización nombres más consistentes, \n",
    "legibles y fáciles de manejar en el código\n",
    "\"\"\"\n",
    "def normalize_column_name(column_name):\n",
    "    \"\"\"\n",
    "    Función para normalizar el nombre de una columna.\n",
    "\n",
    "    Args:\n",
    "        column_name (str): El nombre original de la columna.\n",
    "\n",
    "    Returns:\n",
    "        str: El nombre normalizado de la columna.\n",
    "    \"\"\"\n",
    "    # Elimino espacios en blanco\n",
    "    normalized_name = column_name.replace(\" \", \"_\")\n",
    "\n",
    "    # Convierto a minúsculas\n",
    "    normalized_name = normalized_name.lower()\n",
    "\n",
    "    return normalized_name\n"
   ]
  },
  {
   "cell_type": "markdown",
   "metadata": {},
   "source": [
    "### Imprimiré la información sobre cada columna original, la idea es visualizar el contenido esperado normalizado y dos ejemplos para verificar la correcta normalización."
   ]
  },
  {
   "cell_type": "code",
   "execution_count": 28,
   "metadata": {},
   "outputs": [
    {
     "name": "stdout",
     "output_type": "stream",
     "text": [
      "\n",
      "Columna: Transaction ID\n",
      "Contenido esperado: transaction_id\n",
      "\n",
      "Ejemplo de valores:\n",
      "- 15d2e414-8735-46fc-9e02-80b472b2580f\n",
      "- 0bfee1a0-6d5e-40da-a446-d04e73b1b177\n",
      "\n",
      "Columna: Customer ID\n",
      "Contenido esperado: customer_id\n",
      "\n",
      "Ejemplo de valores:\n",
      "- d1b87f62-51b2-493b-ad6a-77e0fe13e785\n",
      "- 37de64d5-e901-4a56-9ea0-af0c24c069cf\n",
      "\n",
      "Columna: Transaction Amount\n",
      "Contenido esperado: transaction_amount\n",
      "\n",
      "Ejemplo de valores:\n",
      "- 58.09\n",
      "- 389.96\n",
      "\n",
      "Columna: Transaction Day\n",
      "Contenido esperado: transaction_day\n",
      "\n",
      "Ejemplo de valores:\n",
      "- 20-02-2024\n",
      "- 25-02-2024\n",
      "\n",
      "Columna: Transaction Hour\n",
      "Contenido esperado: transaction_hour\n",
      "\n",
      "Ejemplo de valores:\n",
      "- 05:58:41\n",
      "- 08:09:45\n",
      "\n",
      "Columna: Payment Method\n",
      "Contenido esperado: payment_method\n",
      "\n",
      "Ejemplo de valores:\n",
      "- Bank Transfer\n",
      "- Debit Card\n",
      "\n",
      "Columna: Product Category\n",
      "Contenido esperado: product_category\n",
      "\n",
      "Ejemplo de valores:\n",
      "- Electronics\n",
      "- Electronics\n",
      "\n",
      "Columna: Quantity\n",
      "Contenido esperado: quantity\n",
      "\n",
      "Ejemplo de valores:\n",
      "- 1\n",
      "- 2\n",
      "\n",
      "Columna: Customer Age\n",
      "Contenido esperado: customer_age\n",
      "\n",
      "Ejemplo de valores:\n",
      "- 17\n",
      "- 40\n",
      "\n",
      "Columna: Customer Location\n",
      "Contenido esperado: customer_location\n",
      "\n",
      "Ejemplo de valores:\n",
      "- Amandaborough\n",
      "- East Timothy\n",
      "\n",
      "Columna: Device Used\n",
      "Contenido esperado: device_used\n",
      "\n",
      "Ejemplo de valores:\n",
      "- Tablet\n",
      "- Desktop\n",
      "\n",
      "Columna: IP Address\n",
      "Contenido esperado: ip_address\n",
      "\n",
      "Ejemplo de valores:\n",
      "- 212.195.49.198\n",
      "- 208.106.249.121\n",
      "\n",
      "Columna: Shipping Address\n",
      "Contenido esperado: shipping_address\n",
      "\n",
      "Ejemplo de valores:\n",
      "- Unit 8934 Box 0058\n",
      "Dpo Aa 05437\n",
      "- 634 May Keys\n",
      "Port Cherylview, Nv 75063\n",
      "\n",
      "Columna: Billing Address\n",
      "Contenido esperado: billing_address\n",
      "\n",
      "Ejemplo de valores:\n",
      "- Unit 8934 Box 0058\n",
      "Dpo Aa 05437\n",
      "- 634 May Keys\n",
      "Port Cherylview, Nv 75063\n",
      "\n",
      "Columna: Is Fraudulent\n",
      "Contenido esperado: is_fraudulent\n",
      "\n",
      "Ejemplo de valores:\n",
      "- 0\n",
      "- 0\n",
      "\n",
      "Columna: Account Age Days\n",
      "Contenido esperado: account_age_days\n",
      "\n",
      "Ejemplo de valores:\n",
      "- 30\n",
      "- 72\n"
     ]
    }
   ],
   "source": [
    "# Obtengo los nombres de las columnas\n",
    "column_names = ecommerce_df.columns\n",
    "\n",
    "# Recorro cada columna\n",
    "for column_name in column_names:\n",
    "    # Obtengo el contenido esperado\n",
    "    expected_content = normalize_column_name(column_name)\n",
    "\n",
    "    # Muestro la información\n",
    "    print(f\"\\nColumna: {column_name}\")\n",
    "    print(f\"Contenido esperado: {expected_content}\")\n",
    "\n",
    "    # Visualizo al menos dos filas de ejemplo para analizar la normalización.\n",
    "    print(\"\\nEjemplo de valores:\")\n",
    "    for i in range(2):\n",
    "        value = ecommerce_df[column_name].iloc[i]\n",
    "        print(f\"- {value}\")\n"
   ]
  },
  {
   "cell_type": "code",
   "execution_count": 29,
   "metadata": {},
   "outputs": [
    {
     "name": "stdout",
     "output_type": "stream",
     "text": [
      "\n",
      "Categorías en 'Payment Method':\n",
      "['Bank Transfer' 'Debit Card' 'Paypal' 'Credit Card']\n"
     ]
    }
   ],
   "source": [
    "\"\"\"\n",
    "la idea de verificar categorías en dicha columna, es visualizarlas\n",
    "\"\"\"\n",
    "# Verifico las categorías en 'Payment Method'\n",
    "if 'Payment Method' in ecommerce_df.columns:\n",
    "    print(\"\\nCategorías en 'Payment Method':\")\n",
    "    print(ecommerce_df['Payment Method'].unique())\n",
    "else:\n",
    "    print(\"La columna 'Payment Method' no está presente en el DataFrame.\")\n"
   ]
  },
  {
   "cell_type": "markdown",
   "metadata": {},
   "source": [
    "### Procedemos a guardar el df en formato csv"
   ]
  },
  {
   "cell_type": "code",
   "execution_count": 31,
   "metadata": {},
   "outputs": [
    {
     "name": "stdout",
     "output_type": "stream",
     "text": [
      "DataFrame completo guardado exitosamente en: C:\\Users\\Esteban García\\OneDrive\\Escritorio\\LABs\\Carpeta Fraude\\DF guardado\\ecommerce.csv\n"
     ]
    }
   ],
   "source": [
    "# Especifico la ruta y nombre del archivo donde se guardará el DataFrame\n",
    "file_path = r\"C:\\Users\\Esteban García\\OneDrive\\Escritorio\\LABs\\Carpeta Fraude\\DF guardado\\ecommerce.csv\"\n",
    "\n",
    "# Guardo el DataFrame completo en un archivo CSV en la carpeta específica\n",
    "ecommerce_df.to_csv(file_path, index=False)\n",
    "\n",
    "print(\"DataFrame completo guardado exitosamente en:\", file_path)"
   ]
  }
 ],
 "metadata": {
  "kernelspec": {
   "display_name": "Python 3",
   "language": "python",
   "name": "python3"
  },
  "language_info": {
   "codemirror_mode": {
    "name": "ipython",
    "version": 3
   },
   "file_extension": ".py",
   "mimetype": "text/x-python",
   "name": "python",
   "nbconvert_exporter": "python",
   "pygments_lexer": "ipython3",
   "version": "3.12.4"
  }
 },
 "nbformat": 4,
 "nbformat_minor": 2
}
