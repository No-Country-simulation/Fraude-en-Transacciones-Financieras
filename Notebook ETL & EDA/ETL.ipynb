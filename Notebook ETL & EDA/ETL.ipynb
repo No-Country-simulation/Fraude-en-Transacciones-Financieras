{
 "cells": [
  {
   "cell_type": "markdown",
   "metadata": {},
   "source": [
    "### Vamos a instalar paquetes e importar librerías para trabajar y descargar los Data Sets."
   ]
  },
  {
   "cell_type": "code",
   "execution_count": 2,
   "metadata": {},
   "outputs": [],
   "source": [
    "# Importo librerías y paquetes necesarios\n",
    "import numpy\n",
    "import pandas as pd\n",
    "import zipfile\n",
    "import os\n",
    "import json\n",
    "import requests\n",
    "from requests.adapters import HTTPAdapter\n",
    "from requests.packages.urllib3.exceptions import InsecureRequestWarning\n",
    "from requests.packages.urllib3.poolmanager import PoolManager\n",
    "import ssl"
   ]
  },
  {
   "cell_type": "markdown",
   "metadata": {},
   "source": [
    "### Trato advertencias"
   ]
  },
  {
   "cell_type": "code",
   "execution_count": 6,
   "metadata": {},
   "outputs": [],
   "source": [
    "# Deshabilita advertencias de solicitudes inseguras (SOLO para desarrollo)\n",
    "requests.packages.urllib3.disable_warnings(InsecureRequestWarning)"
   ]
  },
  {
   "cell_type": "markdown",
   "metadata": {},
   "source": [
    "### Llamo las rutas de los archivos ZIP y el Endpoint de la API"
   ]
  },
  {
   "cell_type": "code",
   "execution_count": 7,
   "metadata": {},
   "outputs": [],
   "source": [
    "# Rutas a los archivos ZIP y el endpoint de la API\n",
    "credit_card_zip_path = r\"C:\\Users\\Esteban García\\OneDrive\\Escritorio\\LABs\\Datasets para Trabajar NoCountry\\Credit Card Transactions Fraud Detection Dataset.zip\"\n",
    "ecommerce_zip_path = r\"C:\\Users\\Esteban García\\OneDrive\\Escritorio\\LABs\\Datasets para Trabajar NoCountry\\Fraudulent E-commerce Transactions.zip\"\n",
    "\n",
    "# Endpoint de la API del BCRA (ajustar según la documentación)\n",
    "bcra_api_url = \"https://api.bcra.gob.ar/estadisticas/v2.0/PrincipalesVariables\""
   ]
  },
  {
   "cell_type": "markdown",
   "metadata": {},
   "source": [
    "### Establezco la ruta donde guardaré los archivos *.csv procesados"
   ]
  },
  {
   "cell_type": "code",
   "execution_count": 9,
   "metadata": {},
   "outputs": [],
   "source": [
    "# Ruta donde se guardarán los archivos CSV procesados\n",
    "output_dir = r\"C:\\Users\\Esteban García\\OneDrive\\Escritorio\\LABs\\Datasets para Trabajar NoCountry\""
   ]
  },
  {
   "cell_type": "markdown",
   "metadata": {},
   "source": [
    "### Defino la función"
   ]
  },
  {
   "cell_type": "code",
   "execution_count": 10,
   "metadata": {},
   "outputs": [],
   "source": [
    "# Función para explorar y analizar los archivos *.zip \n",
    "\n",
    "def list_files_in_zip(zip_path):\n",
    "    \"\"\"Lista los archivos dentro de un archivo ZIP.\"\"\"\n",
    "    with zipfile.ZipFile(zip_path, 'r') as zip_ref:\n",
    "        return zip_ref.namelist()\n",
    "\n",
    "\n",
    "def extract_and_read_zip(zip_path, file_name):\n",
    "    \"\"\"Extrae archivos ZIP y lee los datasets.\"\"\"\n",
    "    with zipfile.ZipFile(zip_path, 'r') as zip_ref:\n",
    "        zip_ref.extractall(\"temp_dataset\")\n",
    "        file_path = os.path.join(\"temp_dataset\", file_name)\n",
    "        return pd.read_csv(file_path)"
   ]
  },
  {
   "cell_type": "markdown",
   "metadata": {},
   "source": [
    "### Verifico"
   ]
  },
  {
   "cell_type": "code",
   "execution_count": 11,
   "metadata": {},
   "outputs": [],
   "source": [
    "# Verifico los nombres de los archivos dentro de los ZIPs\n",
    "credit_card_files = list_files_in_zip(credit_card_zip_path)\n",
    "ecommerce_files = list_files_in_zip(ecommerce_zip_path)\n",
    "\n",
    "# Verifico la lectura correcta de los archivos\n",
    "credit_card_file_name = next((file for file in credit_card_files if file.endswith('.csv')), None)\n",
    "ecommerce_file_name = next((file for file in ecommerce_files if file.endswith('.csv')), None)\n",
    "\n",
    "if credit_card_file_name:\n",
    "    credit_card_df = extract_and_read_zip(credit_card_zip_path, credit_card_file_name)\n",
    "else:\n",
    "    print(\"No se encontró un archivo CSV en el ZIP de tarjetas de crédito.\")\n",
    "\n",
    "if ecommerce_file_name:\n",
    "    ecommerce_df = extract_and_read_zip(ecommerce_zip_path, ecommerce_file_name)\n",
    "else:\n",
    "    print(\"No se encontró un archivo CSV en el ZIP de comercio electrónico.\")\n"
   ]
  },
  {
   "cell_type": "code",
   "execution_count": 12,
   "metadata": {},
   "outputs": [
    {
     "name": "stdout",
     "output_type": "stream",
     "text": [
      "['fraudTest.csv', 'fraudTrain.csv']\n",
      "['Fraudulent_E-Commerce_Transaction_Data.csv', 'Fraudulent_E-Commerce_Transaction_Data_2.csv']\n"
     ]
    }
   ],
   "source": [
    "print(credit_card_files)\n",
    "print(ecommerce_files)\n"
   ]
  },
  {
   "cell_type": "markdown",
   "metadata": {},
   "source": [
    "### Consulto la API del BCRA"
   ]
  },
  {
   "cell_type": "code",
   "execution_count": 13,
   "metadata": {},
   "outputs": [
    {
     "name": "stdout",
     "output_type": "stream",
     "text": [
      "   idVariable  cdSerie                                        descripcion  \\\n",
      "0           1      246  Reservas Internacionales del BCRA (en millones...   \n",
      "1           4     7927  Tipo de Cambio Minorista ($ por USD) Comunicac...   \n",
      "2           5      272  Tipo de Cambio Mayorista ($ por USD) Comunicac...   \n",
      "3           6     7935             Tasa de Política Monetaria (en % n.a.)   \n",
      "4           7     1222     BADLAR en pesos de bancos privados (en % n.a.)   \n",
      "\n",
      "        fecha     valor  \n",
      "0  2024-07-08  28348.00  \n",
      "1  2024-07-11    956.91  \n",
      "2  2024-07-11    920.50  \n",
      "3  2024-07-11     40.00  \n",
      "4  2024-07-10     34.25  \n",
      "   idVariable       fecha    valor\n",
      "0           1  2024-01-02  23470.0\n",
      "1           1  2024-01-03  23677.0\n",
      "2           1  2024-01-04  23835.0\n",
      "3           1  2024-01-05  24119.0\n",
      "4           1  2024-01-08  23233.0\n"
     ]
    }
   ],
   "source": [
    "import requests\n",
    "import pandas as pd\n",
    "\n",
    "# URL base de la API\n",
    "base_url = \"https://api.bcra.gob.ar/estadisticas/v2.0/\"\n",
    "\n",
    "# Endpoint para obtener principales variables\n",
    "variables_url = base_url + \"principalesvariables\"\n",
    "\n",
    "# Solicitar los datos de principales variables\n",
    "response = requests.get(variables_url, verify=False)\n",
    "if response.status_code == 200:\n",
    "    variables = response.json()['results']\n",
    "else:\n",
    "    print(\"Error al obtener principales variables:\", response.status_code)\n",
    "\n",
    "# Crear un DataFrame con las principales variables\n",
    "variables_df = pd.DataFrame(variables)\n",
    "\n",
    "# Mostrar las primeras filas del DataFrame\n",
    "print(variables_df.head())\n",
    "\n",
    "# Guardar el DataFrame en un archivo CSV\n",
    "output_dir = \"C:/Users/Esteban García/OneDrive/Escritorio/LABs/Datasets para Trabajar NoCountry/\"\n",
    "variables_df.to_csv(output_dir + \"principales_variables.csv\", index=False)\n",
    "\n",
    "# Función para obtener datos de una variable específica\n",
    "def obtener_datos_variable(id_variable, desde, hasta):\n",
    "    datos_url = f\"{base_url}datosvariable/{id_variable}/{desde}/{hasta}\"\n",
    "    response = requests.get(datos_url, verify=False)\n",
    "    if response.status_code == 200:\n",
    "        return response.json()['results']\n",
    "    else:\n",
    "        print(\"Error al obtener datos de la variable:\", response.status_code)\n",
    "        return []\n",
    "\n",
    "# Rango de fechas desde 2021 hasta 2024\n",
    "id_variable = 1  # ID de la variable a consultar\n",
    "desde = \"2024-01-01\"  # Fecha de inicio del rango\n",
    "hasta = \"2024-12-31\"  # Fecha de fin del rango\n",
    "\n",
    "datos_variable = obtener_datos_variable(id_variable, desde, hasta)\n",
    "\n",
    "# Crear un DataFrame con los datos de la variable\n",
    "datos_variable_df = pd.DataFrame(datos_variable)\n",
    "\n",
    "# Mostrar las primeras filas del DataFrame de datos de la variable\n",
    "print(datos_variable_df.head())\n",
    "\n",
    "# Guardar el DataFrame en un archivo CSV\n",
    "datos_variable_df.to_csv(output_dir + \"datos_variable.csv\", index=False)\n"
   ]
  }
 ],
 "metadata": {
  "kernelspec": {
   "display_name": "Python 3",
   "language": "python",
   "name": "python3"
  },
  "language_info": {
   "codemirror_mode": {
    "name": "ipython",
    "version": 3
   },
   "file_extension": ".py",
   "mimetype": "text/x-python",
   "name": "python",
   "nbconvert_exporter": "python",
   "pygments_lexer": "ipython3",
   "version": "3.12.4"
  }
 },
 "nbformat": 4,
 "nbformat_minor": 2
}
