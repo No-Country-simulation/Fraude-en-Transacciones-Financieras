{
 "cells": [
  {
   "cell_type": "markdown",
   "metadata": {},
   "source": [
    "![Banner](Recursos\\Banner.png)"
   ]
  },
  {
   "cell_type": "markdown",
   "metadata": {},
   "source": [
    "### Instalaremos paquetes y librerías necesarias para descargar, trabajar los DataSets para cumplir con nuestro MVP descrito en nuestro README.md"
   ]
  },
  {
   "cell_type": "code",
   "execution_count": null,
   "metadata": {},
   "outputs": [],
   "source": [
    "# Importo librerías y paquetes necesarios\n",
    "import numpy\n",
    "import pandas as pd\n",
    "import zipfile\n",
    "import os\n",
    "import json\n",
    "import requests\n",
    "import ssl\n",
    "import datetime\n",
    "import matplotlib.pyplot as plt\n",
    "import seaborn as sns\n",
    "\n",
    "from requests.adapters import HTTPAdapter\n",
    "from requests.packages.urllib3.exceptions import InsecureRequestWarning\n",
    "from requests.packages.urllib3.poolmanager import PoolManager\n"
   ]
  },
  {
   "cell_type": "markdown",
   "metadata": {},
   "source": [
    "### Trato advertencias"
   ]
  },
  {
   "cell_type": "code",
   "execution_count": null,
   "metadata": {},
   "outputs": [],
   "source": [
    "# Deshabilito advertencias de solicitudes inseguras.\n",
    "requests.packages.urllib3.disable_warnings(InsecureRequestWarning)"
   ]
  },
  {
   "cell_type": "markdown",
   "metadata": {},
   "source": [
    "### Llamaré a los archivos con los que trabajaremos."
   ]
  },
  {
   "cell_type": "code",
   "execution_count": null,
   "metadata": {},
   "outputs": [],
   "source": [
    "# Rutas a los archivos ZIP y el endpoint de la API\n",
    "credit_card_zip_path = r\"C:\\\\Users\\Esteban García\\\\OneDrive\\\\Escritorio\\\\LABs\\\\Datasets para Trabajar NoCountry\\\\DataFrames\\\\Credit Card Transactions Fraud Detection Dataset.zip\"\n",
    "ecommerce_zip_path = r\"C:\\\\Users\\\\Esteban García\\\\OneDrive\\\\Escritorio\\\\LABs\\\\Datasets para Trabajar NoCountry\\\\DataFrames\\\\Fraudulent E-commerce Transactions.zip\"\n",
    "\n",
    "# Endpoint de la API del BCRA (ajustar según la documentación)\n",
    "bcra_api_url = \"https://api.bcra.gob.ar/estadisticas/v2.0/PrincipalesVariables\""
   ]
  },
  {
   "cell_type": "markdown",
   "metadata": {},
   "source": [
    "### Establezco la ruta donde guardaré los df y *.csv"
   ]
  },
  {
   "cell_type": "code",
   "execution_count": null,
   "metadata": {},
   "outputs": [],
   "source": [
    "output_dir = r\"C:\\\\Users\\\\Esteban García\\\\OneDrive\\\\Escritorio\\\\LABs\\\\Datasets para Trabajar NoCountry\\\\DataFrames\\\\DF Procesados\""
   ]
  },
  {
   "cell_type": "markdown",
   "metadata": {},
   "source": [
    "### Defino la función para explorar los documentos"
   ]
  },
  {
   "cell_type": "code",
   "execution_count": null,
   "metadata": {},
   "outputs": [],
   "source": [
    "# Función para explorar y analizar los archivos *.zip\n",
    "\n",
    "def list_files_in_zip(zip_path):\n",
    "    \"\"\"Listo los archivos dentro de un archivo ZIP.\"\"\"\n",
    "    with zipfile.ZipFile(zip_path, 'r') as zip_ref:\n",
    "        return zip_ref.namelist()\n",
    "\n",
    "\n",
    "def extract_and_read_zip(zip_path, file_name):\n",
    "    \"\"\"Extraigo los archivos ZIP y leo los datasets.\"\"\"\n",
    "    with zipfile.ZipFile(zip_path, 'r') as zip_ref:\n",
    "        zip_ref.extractall(\"temp_dataset\")\n",
    "        file_path = os.path.join(\"temp_dataset\", file_name)\n",
    "        return pd.read_csv(file_path)"
   ]
  },
  {
   "cell_type": "markdown",
   "metadata": {},
   "source": [
    "### Verifico que la extracción de los archivos fue existosa."
   ]
  },
  {
   "cell_type": "code",
   "execution_count": null,
   "metadata": {},
   "outputs": [],
   "source": [
    "# Verifico los nombres de los archivos dentro de los ZIPs\n",
    "credit_card_files = list_files_in_zip(credit_card_zip_path)\n",
    "ecommerce_files = list_files_in_zip(ecommerce_zip_path)\n",
    "\n",
    "# Verifico la lectura correcta de los archivos\n",
    "credit_card_file_name = next((file for file in credit_card_files if file.endswith('.csv')), None)\n",
    "ecommerce_file_name = next((file for file in ecommerce_files if file.endswith('.csv')), None)\n",
    "\n",
    "if credit_card_file_name:\n",
    "    credit_card_df = extract_and_read_zip(credit_card_zip_path, credit_card_file_name)\n",
    "else:\n",
    "    print(\"No se encontró un archivo CSV en el ZIP de tarjetas de crédito.\")\n",
    "\n",
    "if ecommerce_file_name:\n",
    "    ecommerce_df = extract_and_read_zip(ecommerce_zip_path, ecommerce_file_name)\n",
    "else:\n",
    "    print(\"No se encontró un archivo CSV en el ZIP de comercio electrónico.\")"
   ]
  },
  {
   "cell_type": "markdown",
   "metadata": {},
   "source": [
    "### Consulto la APIs del BCRA"
   ]
  },
  {
   "cell_type": "code",
   "execution_count": null,
   "metadata": {},
   "outputs": [],
   "source": [
    "# Determino la URL base de la API\n",
    "base_url = \"https://api.bcra.gob.ar/estadisticas/v2.0/\"\n",
    "\n",
    "# Establezco el endpoint para obtener principales variables\n",
    "variables_url = base_url + \"principalesvariables\"\n",
    "\n",
    "# Solicito los datos de principales variables\n",
    "response = requests.get(variables_url, verify=False)\n",
    "if response.status_code == 200:\n",
    "    variables = response.json()['results']\n",
    "else:\n",
    "    print(\"Error al obtener principales variables:\", response.status_code)\n",
    "\n",
    "# Creo un DataFrame con las principales variables\n",
    "bcra_df = pd.DataFrame(variables)\n",
    "\n",
    "# Muestro las primeras filas del DataFrame\n",
    "print(bcra_df.head())\n",
    "\n",
    "# Guardar el DataFrame en un archivo CSV\n",
    "output_dir = r\"C:\\\\Users\\\\Esteban García\\\\OneDrive\\\\Escritorio\\\\LABs\\\\Datasets para Trabajar NoCountry\\\\DataFrames\\\\DF Procesados\"\n",
    "bcra_df.to_csv(output_dir + \"principales_variables.csv\", index=False)\n",
    "\n",
    "# Función para obtener datos de una variable específica\n",
    "def obtener_datos_variable(id_variable, desde, hasta):\n",
    "    datos_url = f\"{base_url}datosvariable/{id_variable}/{desde}/{hasta}\"\n",
    "    response = requests.get(datos_url, verify=False)\n",
    "    if response.status_code == 200:\n",
    "        return response.json()['results']\n",
    "    else:\n",
    "        print(\"Error al obtener datos de la variable:\", response.status_code)\n",
    "        return []\n",
    "\n",
    "# Establezco el rango de fechas para el año 2024\n",
    "id_variable = 1  # ID de la variable a consultar\n",
    "desde = \"2024-01-01\"  # Fecha de inicio del rango\n",
    "hasta = \"2024-12-31\"  # Fecha de fin del rango\n",
    "\n",
    "datos_variable = obtener_datos_variable(id_variable, desde, hasta)\n",
    "\n",
    "# Creo el DataFrame con los datos de la variable\n",
    "bcra_df = pd.DataFrame(datos_variable)\n",
    "\n",
    "# Mostrar las primeras filas del DataFrame de datos de la variable\n",
    "print(bcra_df.head())\n",
    "\n",
    "# Guardar el DataFrame en un archivo CSV\n",
    "bcra_df.to_csv(output_dir + \"datos_variable.csv\", index=False)\n",
    "\n"
   ]
  },
  {
   "cell_type": "markdown",
   "metadata": {},
   "source": [
    "### Visualizo los df para ver su contenido para tener un primer acercamiento al contenido, visualizarlo y entender los pasos a seguir."
   ]
  },
  {
   "cell_type": "code",
   "execution_count": null,
   "metadata": {},
   "outputs": [],
   "source": [
    "ecommerce_df"
   ]
  },
  {
   "cell_type": "code",
   "execution_count": null,
   "metadata": {},
   "outputs": [],
   "source": [
    "credit_card_df"
   ]
  },
  {
   "cell_type": "code",
   "execution_count": null,
   "metadata": {},
   "outputs": [],
   "source": [
    "bcra_df"
   ]
  },
  {
   "cell_type": "markdown",
   "metadata": {},
   "source": [
    "### Al haber una reducción de personal a última hora, elegimos trabajar con el DataFrame llamado ecommerce_df"
   ]
  },
  {
   "cell_type": "code",
   "execution_count": null,
   "metadata": {},
   "outputs": [],
   "source": [
    "ecommerce_df"
   ]
  },
  {
   "cell_type": "markdown",
   "metadata": {},
   "source": [
    "### Modificaré la columna 'Transaction Date' en dos columnas una que contenga la fecha y la hora que contenga la hora, ambas en fomato datetime."
   ]
  },
  {
   "cell_type": "code",
   "execution_count": null,
   "metadata": {},
   "outputs": [],
   "source": [
    "ecommerce_df['Transaction Date'] = pd.to_datetime(ecommerce_df['Transaction Date'])\n",
    "ecommerce_df['Transaction Time'] = ecommerce_df['Transaction Date'].dt.strftime('%H:%M:%S')\n",
    "ecommerce_df['Transaction Date'] = ecommerce_df['Transaction Date'].dt.strftime('%Y-%m-%d')\n",
    "\n",
    "\n",
    "print(ecommerce_df[['Transaction Date', 'Transaction Time']].head())\n"
   ]
  },
  {
   "cell_type": "code",
   "execution_count": null,
   "metadata": {},
   "outputs": [],
   "source": [
    "ecommerce_df"
   ]
  },
  {
   "cell_type": "markdown",
   "metadata": {},
   "source": [
    "### Análisis exploratorio de fraudes en e-commerce_df"
   ]
  },
  {
   "cell_type": "code",
   "execution_count": null,
   "metadata": {},
   "outputs": [],
   "source": [
    "# Load the CSV file\n",
    "file_path = 'ruta/a/tu/archivo/ecommerce.csv'\n",
    "df = pd.read_csv(file_path)\n",
    "\n",
    "# Convert 'Transaction Date' to datetime\n",
    "df['Transaction Date'] = pd.to_datetime(df['Transaction Date'])\n",
    "\n",
    "# Filter the dataset to include only fraudulent transactions\n",
    "fraud_df = df[df['Is Fraudulent'] == 1]\n",
    "\n",
    "# Check if there's a 'Gender' column, if not we'll use another categorical column\n",
    "if 'Gender' in fraud_df.columns:\n",
    "    gender_column = 'Gender'\n",
    "else:\n",
    "    gender_column = 'Payment Method'  # Using 'Payment Method' as an example\n",
    "\n",
    "# Create subplots\n",
    "fig, axs = plt.subplots(2, 2, figsize=(15, 12))\n",
    "\n",
    "# 1. Distribution of frauds by gender (or payment method)\n",
    "sns.countplot(x=gender_column, data=fraud_df, ax=axs[0, 0], palette=\"viridis\")\n",
    "axs[0, 0].set_title('Distribution of Frauds by ' + gender_column)\n",
    "axs[0, 0].set_xlabel(gender_column)\n",
    "axs[0, 0].set_ylabel('Count')\n",
    "\n",
    "# 2. Distribution of frauds by transaction amount\n",
    "sns.histplot(fraud_df['Transaction Amount'], kde=True, ax=axs[0, 1], color='blue')\n",
    "axs[0, 1].set_title('Distribution of Fraudulent Transaction Amounts')\n",
    "axs[0, 1].set_xlabel('Transaction Amount')\n",
    "axs[0, 1].set_ylabel('Frequency')\n",
    "\n",
    "# 3. Distribution of frauds over time\n",
    "fraud_df.set_index('Transaction Date')['Transaction Amount'].resample('D').sum().plot(ax=axs[1, 0])\n",
    "axs[1, 0].set_title('Fraudulent Transactions Over Time')\n",
    "axs[1, 0].set_xlabel('Date')\n",
    "axs[1, 0].set_ylabel('Total Fraudulent Amount')\n",
    "\n",
    "# 4. Distribution of frauds by device used\n",
    "sns.countplot(x='Device Used', data=fraud_df, ax=axs[1, 1], palette=\"viridis\")\n",
    "axs[1, 1].set_title('Distribution of Frauds by Device Used')\n",
    "axs[1, 1].set_xlabel('Device Used')\n",
    "axs[1, 1].set_ylabel('Count')\n",
    "\n",
    "plt.tight_layout()\n",
    "plt.show()\n"
   ]
  },
  {
   "cell_type": "code",
   "execution_count": null,
   "metadata": {},
   "outputs": [],
   "source": []
  },
  {
   "cell_type": "code",
   "execution_count": null,
   "metadata": {},
   "outputs": [],
   "source": []
  },
  {
   "cell_type": "code",
   "execution_count": null,
   "metadata": {},
   "outputs": [],
   "source": []
  },
  {
   "cell_type": "code",
   "execution_count": null,
   "metadata": {},
   "outputs": [],
   "source": []
  },
  {
   "cell_type": "code",
   "execution_count": null,
   "metadata": {},
   "outputs": [],
   "source": []
  },
  {
   "cell_type": "code",
   "execution_count": null,
   "metadata": {},
   "outputs": [],
   "source": []
  },
  {
   "cell_type": "code",
   "execution_count": null,
   "metadata": {},
   "outputs": [],
   "source": []
  },
  {
   "cell_type": "code",
   "execution_count": null,
   "metadata": {},
   "outputs": [],
   "source": []
  },
  {
   "cell_type": "code",
   "execution_count": null,
   "metadata": {},
   "outputs": [],
   "source": []
  },
  {
   "cell_type": "code",
   "execution_count": null,
   "metadata": {},
   "outputs": [],
   "source": [
    "import pandas as pd\n",
    "\n",
    "# Suponiendo que ya tienes cargado tu DataFrame llamado ecommerce_df\n",
    "\n",
    "# Obtener una muestra del 10% del DataFrame\n",
    "sample_df = ecommerce_df.sample(frac=0.1)\n",
    "\n",
    "# Especificar la ruta y nombre del archivo donde se guardará la muestra\n",
    "file_path = \"C:\\\\Users\\\\Esteban García\\\\OneDrive\\\\Escritorio\\\\LABs\\\\No Country\\\\ecommerce.csv\"\n",
    "\n",
    "# Guardar la muestra en un archivo CSV en la carpeta específica\n",
    "sample_df.to_csv(file_path, index=False)\n",
    "\n",
    "print(\"Muestra del 10% guardada exitosamente en:\", file_path)"
   ]
  },
  {
   "cell_type": "code",
   "execution_count": null,
   "metadata": {},
   "outputs": [],
   "source": []
  },
  {
   "cell_type": "code",
   "execution_count": null,
   "metadata": {},
   "outputs": [],
   "source": []
  },
  {
   "cell_type": "code",
   "execution_count": null,
   "metadata": {},
   "outputs": [],
   "source": []
  },
  {
   "cell_type": "code",
   "execution_count": null,
   "metadata": {},
   "outputs": [],
   "source": []
  },
  {
   "cell_type": "code",
   "execution_count": null,
   "metadata": {},
   "outputs": [],
   "source": []
  },
  {
   "cell_type": "code",
   "execution_count": null,
   "metadata": {},
   "outputs": [],
   "source": []
  },
  {
   "cell_type": "code",
   "execution_count": null,
   "metadata": {},
   "outputs": [],
   "source": []
  },
  {
   "cell_type": "code",
   "execution_count": null,
   "metadata": {},
   "outputs": [],
   "source": []
  },
  {
   "cell_type": "code",
   "execution_count": null,
   "metadata": {},
   "outputs": [],
   "source": []
  },
  {
   "cell_type": "code",
   "execution_count": null,
   "metadata": {},
   "outputs": [],
   "source": []
  },
  {
   "cell_type": "code",
   "execution_count": null,
   "metadata": {},
   "outputs": [],
   "source": []
  },
  {
   "cell_type": "code",
   "execution_count": null,
   "metadata": {},
   "outputs": [],
   "source": []
  },
  {
   "cell_type": "code",
   "execution_count": null,
   "metadata": {},
   "outputs": [],
   "source": []
  },
  {
   "cell_type": "code",
   "execution_count": null,
   "metadata": {},
   "outputs": [],
   "source": []
  },
  {
   "cell_type": "code",
   "execution_count": null,
   "metadata": {},
   "outputs": [],
   "source": []
  },
  {
   "cell_type": "code",
   "execution_count": null,
   "metadata": {},
   "outputs": [],
   "source": []
  },
  {
   "cell_type": "code",
   "execution_count": null,
   "metadata": {},
   "outputs": [],
   "source": []
  },
  {
   "cell_type": "code",
   "execution_count": null,
   "metadata": {},
   "outputs": [],
   "source": []
  },
  {
   "cell_type": "code",
   "execution_count": null,
   "metadata": {},
   "outputs": [],
   "source": []
  },
  {
   "cell_type": "code",
   "execution_count": null,
   "metadata": {},
   "outputs": [],
   "source": []
  },
  {
   "cell_type": "code",
   "execution_count": null,
   "metadata": {},
   "outputs": [],
   "source": []
  }
 ],
 "metadata": {
  "kernelspec": {
   "display_name": "Python 3",
   "language": "python",
   "name": "python3"
  },
  "language_info": {
   "codemirror_mode": {
    "name": "ipython",
    "version": 3
   },
   "file_extension": ".py",
   "mimetype": "text/x-python",
   "name": "python",
   "nbconvert_exporter": "python",
   "pygments_lexer": "ipython3",
   "version": "3.12.4"
  }
 },
 "nbformat": 4,
 "nbformat_minor": 2
}
